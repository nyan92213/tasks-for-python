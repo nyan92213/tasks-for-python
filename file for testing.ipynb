{
 "cells": [
  {
   "cell_type": "code",
   "execution_count": 1,
   "metadata": {},
   "outputs": [],
   "source": [
    "# calculate\n",
    "# comment 1\n",
    "# comment 2"
   ]
  },
  {
   "cell_type": "raw",
   "metadata": {},
   "source": [
    "text one two three"
   ]
  },
  {
   "cell_type": "markdown",
   "metadata": {},
   "source": [
    "# Heading 1\n",
    "## Heading 2"
   ]
  },
  {
   "cell_type": "markdown",
   "metadata": {},
   "source": [
    "*coursive*"
   ]
  },
  {
   "cell_type": "markdown",
   "metadata": {},
   "source": [
    "**bold text**"
   ]
  },
  {
   "cell_type": "markdown",
   "metadata": {},
   "source": [
    "* point 1\n",
    "* point 1"
   ]
  },
  {
   "cell_type": "markdown",
   "metadata": {},
   "source": [
    "1. point 1\n",
    "2. point 2\n",
    "4. point 3"
   ]
  },
  {
   "cell_type": "markdown",
   "metadata": {},
   "source": [
    "a. point 1\n",
    "b. point 2"
   ]
  },
  {
   "cell_type": "markdown",
   "metadata": {},
   "source": [
    "[Jupyter](https://jupyter.org/)"
   ]
  },
  {
   "cell_type": "markdown",
   "metadata": {},
   "source": [
    "<https://jupyter.org/>"
   ]
  },
  {
   "cell_type": "markdown",
   "metadata": {},
   "source": [
    "$$\n",
    "y_i = \\beta_0 + \\beta_1 \\cdot x_i\n",
    "$$"
   ]
  },
  {
   "cell_type": "code",
   "execution_count": 4,
   "metadata": {},
   "outputs": [
    {
     "name": "stdout",
     "output_type": "stream",
     "text": [
      "2\n",
      "<class 'int'>\n"
     ]
    }
   ],
   "source": [
    "a = int(7/3)\n",
    "print(a)\n",
    "print(type(a))"
   ]
  },
  {
   "cell_type": "code",
   "execution_count": 26,
   "metadata": {},
   "outputs": [
    {
     "data": {
      "text/plain": [
       "1"
      ]
     },
     "execution_count": 26,
     "metadata": {},
     "output_type": "execute_result"
    }
   ],
   "source": [
    "3 // 2"
   ]
  },
  {
   "cell_type": "code",
   "execution_count": 31,
   "metadata": {
    "scrolled": true
   },
   "outputs": [
    {
     "data": {
      "text/plain": [
       "1377"
      ]
     },
     "execution_count": 31,
     "metadata": {},
     "output_type": "execute_result"
    }
   ],
   "source": [
    "9 ** 2 + 6 ** 4"
   ]
  },
  {
   "cell_type": "code",
   "execution_count": 58,
   "metadata": {},
   "outputs": [
    {
     "data": {
      "text/plain": [
       "3.9889840465642745"
      ]
     },
     "execution_count": 58,
     "metadata": {},
     "output_type": "execute_result"
    }
   ],
   "source": [
    "from math import log\n",
    "log(54)"
   ]
  },
  {
   "cell_type": "code",
   "execution_count": 57,
   "metadata": {},
   "outputs": [
    {
     "data": {
      "text/plain": [
       "-0.6356744903915641"
      ]
     },
     "execution_count": 57,
     "metadata": {},
     "output_type": "execute_result"
    }
   ],
   "source": [
    "from math import sqrt\n",
    "sqrt(8) - sqrt(12)"
   ]
  },
  {
   "cell_type": "code",
   "execution_count": 59,
   "metadata": {},
   "outputs": [
    {
     "data": {
      "text/plain": [
       "1.3762255133518482"
      ]
     },
     "execution_count": 59,
     "metadata": {},
     "output_type": "execute_result"
    }
   ],
   "source": [
    "from math import sin, cos\n",
    "math.sin(45) + math.cos(45)"
   ]
  },
  {
   "cell_type": "code",
   "execution_count": 34,
   "metadata": {
    "scrolled": true
   },
   "outputs": [
    {
     "name": "stdout",
     "output_type": "stream",
     "text": [
      "f\n"
     ]
    },
    {
     "ename": "ValueError",
     "evalue": "invalid literal for int() with base 10: 'f'",
     "output_type": "error",
     "traceback": [
      "\u001b[1;31m---------------------------------------------------------------------------\u001b[0m",
      "\u001b[1;31mValueError\u001b[0m                                Traceback (most recent call last)",
      "\u001b[1;32m<ipython-input-34-8e3d2f7af124>\u001b[0m in \u001b[0;36m<module>\u001b[1;34m\u001b[0m\n\u001b[1;32m----> 1\u001b[1;33m \u001b[0msize\u001b[0m \u001b[1;33m=\u001b[0m \u001b[0mint\u001b[0m\u001b[1;33m(\u001b[0m\u001b[0minput\u001b[0m\u001b[1;33m(\u001b[0m\u001b[1;33m)\u001b[0m\u001b[1;33m)\u001b[0m\u001b[1;33m\u001b[0m\u001b[1;33m\u001b[0m\u001b[0m\n\u001b[0m\u001b[0;32m      2\u001b[0m \u001b[0mprint\u001b[0m\u001b[1;33m(\u001b[0m\u001b[0msize\u001b[0m\u001b[1;33m-\u001b[0m\u001b[1;36m2\u001b[0m\u001b[1;33m)\u001b[0m\u001b[1;33m\u001b[0m\u001b[1;33m\u001b[0m\u001b[0m\n",
      "\u001b[1;31mValueError\u001b[0m: invalid literal for int() with base 10: 'f'"
     ]
    }
   ],
   "source": [
    "size = int(input())\n",
    "print(size-2)"
   ]
  },
  {
   "cell_type": "code",
   "execution_count": 11,
   "metadata": {},
   "outputs": [
    {
     "name": "stdout",
     "output_type": "stream",
     "text": [
      "1\n",
      "2\n",
      "3\n",
      "7\n"
     ]
    }
   ],
   "source": [
    "part1 = int(input())\n",
    "part2 = int(input())\n",
    "part3 = int(input())\n",
    "print(part1 + part3 + part3)"
   ]
  },
  {
   "cell_type": "code",
   "execution_count": 60,
   "metadata": {},
   "outputs": [
    {
     "name": "stdout",
     "output_type": "stream",
     "text": [
      "35\n",
      "Ваша заработная плата 35 тысяч рублей.\n"
     ]
    }
   ],
   "source": [
    "salary = 35000\n",
    "salary_th = salary // 1000\n",
    "print(salary_th)\n",
    "print('Ваша заработная плата', salary_th, 'тысяч рублей.')"
   ]
  },
  {
   "cell_type": "code",
   "execution_count": 46,
   "metadata": {},
   "outputs": [
    {
     "name": "stdout",
     "output_type": "stream",
     "text": [
      "1000\n",
      "1050.0\n"
     ]
    }
   ],
   "source": [
    "money = int(input())\n",
    "print(money + money / 20)"
   ]
  },
  {
   "cell_type": "code",
   "execution_count": 76,
   "metadata": {},
   "outputs": [
    {
     "name": "stdout",
     "output_type": "stream",
     "text": [
      "11\n",
      "12\n"
     ]
    }
   ],
   "source": [
    "a = int(input())\n",
    "print((a // 2) * 2 + 2)"
   ]
  },
  {
   "cell_type": "code",
   "execution_count": 70,
   "metadata": {},
   "outputs": [
    {
     "name": "stdout",
     "output_type": "stream",
     "text": [
      "1\n",
      "2\n",
      "3\n",
      "5123 <class 'int'>\n"
     ]
    }
   ],
   "source": [
    "pers1 = '5'\n",
    "pers2 = input()\n",
    "pers3 = input()\n",
    "pers4 = input()\n",
    "summ = int(pers1 + pers2 + pers3 + pers4)\n",
    "print(summ, type(summ))"
   ]
  },
  {
   "cell_type": "markdown",
   "metadata": {},
   "source": [
    "from decimal import Decimal"
   ]
  },
  {
   "cell_type": "code",
   "execution_count": 66,
   "metadata": {},
   "outputs": [
    {
     "data": {
      "text/plain": [
       "Decimal('3.5256699999999998595967554138042032718658447265625')"
      ]
     },
     "execution_count": 66,
     "metadata": {},
     "output_type": "execute_result"
    }
   ],
   "source": [
    "Decimal(3.52567)"
   ]
  },
  {
   "cell_type": "code",
   "execution_count": 71,
   "metadata": {},
   "outputs": [],
   "source": [
    "from math import sin, cos"
   ]
  },
  {
   "cell_type": "code",
   "execution_count": 72,
   "metadata": {},
   "outputs": [
    {
     "data": {
      "text/plain": [
       "1.3762255133518482"
      ]
     },
     "execution_count": 72,
     "metadata": {},
     "output_type": "execute_result"
    }
   ],
   "source": [
    "sin(45) + cos(45)"
   ]
  },
  {
   "cell_type": "code",
   "execution_count": 1,
   "metadata": {},
   "outputs": [
    {
     "data": {
      "text/plain": [
       "0.43576328762348654"
      ]
     },
     "execution_count": 1,
     "metadata": {},
     "output_type": "execute_result"
    }
   ],
   "source": [
    ".435763287623486520345760238650234865238504"
   ]
  },
  {
   "cell_type": "code",
   "execution_count": 2,
   "metadata": {},
   "outputs": [
    {
     "data": {
      "text/plain": [
       "0.9999999999999999"
      ]
     },
     "execution_count": 2,
     "metadata": {},
     "output_type": "execute_result"
    }
   ],
   "source": [
    ".3 + .3 + .3 + .1"
   ]
  },
  {
   "cell_type": "code",
   "execution_count": 12,
   "metadata": {},
   "outputs": [
    {
     "data": {
      "text/plain": [
       "Decimal('0.299999999999999988897769753748434595763683319091796875')"
      ]
     },
     "execution_count": 12,
     "metadata": {},
     "output_type": "execute_result"
    }
   ],
   "source": [
    "from decimal import Decimal\n",
    "Decimal(.3)"
   ]
  },
  {
   "cell_type": "code",
   "execution_count": 5,
   "metadata": {},
   "outputs": [
    {
     "data": {
      "text/plain": [
       "10.0"
      ]
     },
     "execution_count": 5,
     "metadata": {},
     "output_type": "execute_result"
    }
   ],
   "source": [
    "100 ** .5"
   ]
  },
  {
   "cell_type": "code",
   "execution_count": 6,
   "metadata": {},
   "outputs": [
    {
     "data": {
      "text/plain": [
       "'qwerty\\nqwert\\nqwer'"
      ]
     },
     "execution_count": 6,
     "metadata": {},
     "output_type": "execute_result"
    }
   ],
   "source": [
    "'''qwerty\n",
    "qwert\n",
    "qwer'''"
   ]
  },
  {
   "cell_type": "code",
   "execution_count": 9,
   "metadata": {},
   "outputs": [
    {
     "data": {
      "text/plain": [
       "Decimal('1')"
      ]
     },
     "execution_count": 9,
     "metadata": {},
     "output_type": "execute_result"
    }
   ],
   "source": [
    "Decimal('1')"
   ]
  },
  {
   "cell_type": "code",
   "execution_count": 10,
   "metadata": {},
   "outputs": [
    {
     "data": {
      "text/plain": [
       "'ಹಲೋ'"
      ]
     },
     "execution_count": 10,
     "metadata": {},
     "output_type": "execute_result"
    }
   ],
   "source": [
    "'ಹಲೋ'"
   ]
  },
  {
   "cell_type": "code",
   "execution_count": 14,
   "metadata": {},
   "outputs": [
    {
     "data": {
      "text/plain": [
       "b'\\xd0\\xbf\\xd1\\x80\\xd0\\xb8\\xd0\\xb2\\xd0\\xb5\\xd1\\x82'"
      ]
     },
     "execution_count": 14,
     "metadata": {},
     "output_type": "execute_result"
    }
   ],
   "source": [
    "'привет'.encode()"
   ]
  },
  {
   "cell_type": "code",
   "execution_count": 9,
   "metadata": {},
   "outputs": [
    {
     "data": {
      "text/plain": [
       "''"
      ]
     },
     "execution_count": 9,
     "metadata": {},
     "output_type": "execute_result"
    }
   ],
   "source": [
    "'helpa'[:0]"
   ]
  },
  {
   "cell_type": "code",
   "execution_count": 10,
   "metadata": {},
   "outputs": [
    {
     "data": {
      "text/plain": [
       "'97531'"
      ]
     },
     "execution_count": 10,
     "metadata": {},
     "output_type": "execute_result"
    }
   ],
   "source": [
    "'0123456789'[9:0:-2]"
   ]
  },
  {
   "cell_type": "code",
   "execution_count": 14,
   "metadata": {},
   "outputs": [],
   "source": [
    "vlave = 42"
   ]
  },
  {
   "cell_type": "code",
   "execution_count": 15,
   "metadata": {},
   "outputs": [],
   "source": [
    "mass = 0"
   ]
  },
  {
   "cell_type": "code",
   "execution_count": 16,
   "metadata": {},
   "outputs": [],
   "source": [
    "mass = vlave"
   ]
  },
  {
   "cell_type": "code",
   "execution_count": 8,
   "metadata": {},
   "outputs": [],
   "source": [
    "mass += 1"
   ]
  },
  {
   "cell_type": "code",
   "execution_count": 9,
   "metadata": {},
   "outputs": [
    {
     "name": "stdout",
     "output_type": "stream",
     "text": [
      "42 85\n"
     ]
    }
   ],
   "source": [
    "print(vlave, mass)"
   ]
  },
  {
   "cell_type": "code",
   "execution_count": 22,
   "metadata": {},
   "outputs": [
    {
     "data": {
      "text/plain": [
       "140707712964704"
      ]
     },
     "execution_count": 22,
     "metadata": {},
     "output_type": "execute_result"
    }
   ],
   "source": [
    "id(vlave)"
   ]
  },
  {
   "cell_type": "code",
   "execution_count": 23,
   "metadata": {},
   "outputs": [
    {
     "data": {
      "text/plain": [
       "140707712964704"
      ]
     },
     "execution_count": 23,
     "metadata": {},
     "output_type": "execute_result"
    }
   ],
   "source": [
    "id(mass)"
   ]
  },
  {
   "cell_type": "code",
   "execution_count": 25,
   "metadata": {},
   "outputs": [],
   "source": [
    "mass += 1"
   ]
  },
  {
   "cell_type": "code",
   "execution_count": 26,
   "metadata": {},
   "outputs": [
    {
     "data": {
      "text/plain": [
       "140707712964768"
      ]
     },
     "execution_count": 26,
     "metadata": {},
     "output_type": "execute_result"
    }
   ],
   "source": [
    "id(mass)"
   ]
  },
  {
   "cell_type": "code",
   "execution_count": 28,
   "metadata": {},
   "outputs": [],
   "source": [
    "my_box = {}"
   ]
  },
  {
   "cell_type": "code",
   "execution_count": 29,
   "metadata": {},
   "outputs": [],
   "source": [
    "my_box['Розовый'] = 'Слон'"
   ]
  },
  {
   "cell_type": "code",
   "execution_count": 30,
   "metadata": {},
   "outputs": [
    {
     "data": {
      "text/plain": [
       "{'Розовый': 'Слон'}"
      ]
     },
     "execution_count": 30,
     "metadata": {},
     "output_type": "execute_result"
    }
   ],
   "source": [
    "my_box"
   ]
  },
  {
   "cell_type": "code",
   "execution_count": 31,
   "metadata": {},
   "outputs": [],
   "source": [
    "my_box['Рыжий'] = 'Котик'"
   ]
  },
  {
   "cell_type": "code",
   "execution_count": 34,
   "metadata": {},
   "outputs": [
    {
     "data": {
      "text/plain": [
       "{'Розовый': 'Слон', 'Рыжий': 'Котик'}"
      ]
     },
     "execution_count": 34,
     "metadata": {},
     "output_type": "execute_result"
    }
   ],
   "source": [
    "my_box"
   ]
  },
  {
   "cell_type": "code",
   "execution_count": 35,
   "metadata": {},
   "outputs": [
    {
     "data": {
      "text/plain": [
       "'Слон'"
      ]
     },
     "execution_count": 35,
     "metadata": {},
     "output_type": "execute_result"
    }
   ],
   "source": [
    "my_box['Розовый']"
   ]
  },
  {
   "cell_type": "code",
   "execution_count": 36,
   "metadata": {},
   "outputs": [
    {
     "ename": "KeyError",
     "evalue": "'Слон'",
     "output_type": "error",
     "traceback": [
      "\u001b[1;31m---------------------------------------------------------------------------\u001b[0m",
      "\u001b[1;31mKeyError\u001b[0m                                  Traceback (most recent call last)",
      "\u001b[1;32m<ipython-input-36-c4f8706f45f2>\u001b[0m in \u001b[0;36m<module>\u001b[1;34m\u001b[0m\n\u001b[1;32m----> 1\u001b[1;33m \u001b[0mmy_box\u001b[0m\u001b[1;33m[\u001b[0m\u001b[1;34m'Слон'\u001b[0m\u001b[1;33m]\u001b[0m\u001b[1;33m\u001b[0m\u001b[1;33m\u001b[0m\u001b[0m\n\u001b[0m",
      "\u001b[1;31mKeyError\u001b[0m: 'Слон'"
     ]
    }
   ],
   "source": [
    "my_box['Слон']"
   ]
  },
  {
   "cell_type": "code",
   "execution_count": 37,
   "metadata": {},
   "outputs": [
    {
     "data": {
      "text/plain": [
       "'Машинка'"
      ]
     },
     "execution_count": 37,
     "metadata": {},
     "output_type": "execute_result"
    }
   ],
   "source": [
    "my_box.get('Синий', 'Машинка')"
   ]
  },
  {
   "cell_type": "code",
   "execution_count": 39,
   "metadata": {},
   "outputs": [
    {
     "data": {
      "text/plain": [
       "'Слон'"
      ]
     },
     "execution_count": 39,
     "metadata": {},
     "output_type": "execute_result"
    }
   ],
   "source": [
    "my_box.setdefault('Розовый', 'Машинка')"
   ]
  },
  {
   "cell_type": "code",
   "execution_count": 40,
   "metadata": {},
   "outputs": [
    {
     "data": {
      "text/plain": [
       "{'Розовый': 'Слон', 'Рыжий': 'Котик', 'Синий': 'Машинка'}"
      ]
     },
     "execution_count": 40,
     "metadata": {},
     "output_type": "execute_result"
    }
   ],
   "source": [
    "my_box"
   ]
  },
  {
   "cell_type": "code",
   "execution_count": 17,
   "metadata": {},
   "outputs": [
    {
     "name": "stdout",
     "output_type": "stream",
     "text": [
      "Введите количество секунд: 86399\n",
      "23:59:59\n"
     ]
    }
   ],
   "source": [
    "seconds = int(input('Введите количество секунд: '))\n",
    "days = seconds // 86400\n",
    "seconds = seconds - days * 86400\n",
    "hours = seconds // 3600\n",
    "seconds = seconds - hours * 3600\n",
    "first_minutes = seconds // 600\n",
    "seconds = seconds - first_minutes * 600\n",
    "second_minutes = seconds // 60\n",
    "seconds = seconds - second_minutes * 60\n",
    "first_seconds = seconds // 10\n",
    "seconds = seconds % 10\n",
    "print(hours, ':', first_minutes, second_minutes, ':', first_seconds, seconds, sep = '')"
   ]
  },
  {
   "cell_type": "code",
   "execution_count": 14,
   "metadata": {},
   "outputs": [
    {
     "data": {
      "text/plain": [
       "86400"
      ]
     },
     "execution_count": 14,
     "metadata": {},
     "output_type": "execute_result"
    }
   ],
   "source": [
    "3600 * 24"
   ]
  },
  {
   "cell_type": "code",
   "execution_count": 25,
   "metadata": {},
   "outputs": [
    {
     "name": "stdout",
     "output_type": "stream",
     "text": [
      "Введите скорость движения машины: 2072\n",
      "Введите время движения машины: 1\n",
      "1\n"
     ]
    }
   ],
   "source": [
    "v = int(input('Введите скорость движения машины: '))\n",
    "t = int(input('Введите время движения машины: '))\n",
    "s = v * t\n",
    "direct_km = s % 109\n",
    "print(direct_km)"
   ]
  },
  {
   "cell_type": "code",
   "execution_count": 24,
   "metadata": {},
   "outputs": [
    {
     "data": {
      "text/plain": [
       "2072"
      ]
     },
     "execution_count": 24,
     "metadata": {},
     "output_type": "execute_result"
    }
   ],
   "source": [
    "109*19+1"
   ]
  },
  {
   "cell_type": "code",
   "execution_count": 30,
   "metadata": {},
   "outputs": [
    {
     "name": "stdout",
     "output_type": "stream",
     "text": [
      "Введите пятизначное число: 11111\n",
      "5\n"
     ]
    }
   ],
   "source": [
    "number = int(input('Введите пятизначное число: '))\n",
    "first_number = number // 10000\n",
    "number = number - first_number * 10000\n",
    "second_number = number // 1000\n",
    "number = number - second_number * 1000\n",
    "third_number = number // 100 \n",
    "number = number - third_number * 100\n",
    "fours_number = number // 10\n",
    "number = number % 10\n",
    "print(first_number + second_number + third_number + fours_number + number)"
   ]
  },
  {
   "cell_type": "code",
   "execution_count": null,
   "metadata": {},
   "outputs": [],
   "source": [
    "numbers = input().split(sep=',')\n",
    "numbers = list(map(int, numbers))\n",
    "max_value = numbers[0]\n",
    "for number in numbers:\n",
    "    if number > max_value:\n",
    "        max_value = number\n",
    "print(max_value)"
   ]
  },
  {
   "cell_type": "code",
   "execution_count": 26,
   "metadata": {},
   "outputs": [
    {
     "name": "stdout",
     "output_type": "stream",
     "text": [
      "Введите число: 11\n",
      "Введите число: 11\n",
      "Введите число: 11\n",
      "Введите число: 11\n",
      "Введите число: 11\n",
      "Введите число: 10\n",
      "Введите число: 9\n",
      "Введите число: 0\n",
      "Второе по величине число: 10\n"
     ]
    }
   ],
   "source": [
    "number = int(input('Введите число: '))\n",
    "numbers_list = list()\n",
    "numbers_list.append(number)\n",
    "max_value = number\n",
    "\n",
    "while number != 0:\n",
    "    number = int(input('Введите число: '))\n",
    "    if number in numbers_list:\n",
    "        continue\n",
    "    numbers_list.append(number)\n",
    "    \n",
    "for number in numbers_list:\n",
    "    if number > max_value:\n",
    "        max_value = number\n",
    "\n",
    "for number in numbers_list:\n",
    "    if number == max_value:\n",
    "        numbers_list.remove(number)\n",
    "\n",
    "max_value = numbers_list[0]\n",
    "\n",
    "for number in numbers_list:\n",
    "    if number > max_value:\n",
    "        max_value = number\n",
    "        \n",
    "print('Второе по величине число:', max_value)"
   ]
  },
  {
   "cell_type": "code",
   "execution_count": 58,
   "metadata": {},
   "outputs": [
    {
     "name": "stdout",
     "output_type": "stream",
     "text": [
      "Введите год: 400\n",
      "В этом году 366 дней\n"
     ]
    }
   ],
   "source": [
    "year = int(input('Введите год: '))\n",
    "if year % 400 == 0:\n",
    "    print('В этом году 366 дней')\n",
    "elif year % 4 == 0 and year % 100 != 0:\n",
    "    print('В этом году 366 дней')\n",
    "else:\n",
    "    print('В этом году 365 дней')"
   ]
  },
  {
   "cell_type": "code",
   "execution_count": 124,
   "metadata": {},
   "outputs": [
    {
     "name": "stdout",
     "output_type": "stream",
     "text": [
      "Введите число: 59\n",
      "Число простое\n"
     ]
    }
   ],
   "source": [
    "number = int(input('Введите число: '))\n",
    "if number == 2:\n",
    "    print('Число простое')\n",
    "else:\n",
    "    devider = number - 1\n",
    "    deviders_list = list()\n",
    "    deviders_list.append(devider)\n",
    "\n",
    "    while devider > 2:\n",
    "        devider -= 1\n",
    "        deviders_list.append(devider)\n",
    "    \n",
    "    for i in deviders_list:\n",
    "        if number % i == 0:\n",
    "            output = 'Число составное'\n",
    "            break\n",
    "        else:\n",
    "            output = 'Число простое'\n",
    "    print(output)"
   ]
  },
  {
   "cell_type": "code",
   "execution_count": 143,
   "metadata": {},
   "outputs": [
    {
     "name": "stdout",
     "output_type": "stream",
     "text": [
      "Введите число: 1\n",
      "Наименьший натуральный делитель числа 1 это 2\n"
     ]
    }
   ],
   "source": [
    "number = int(input('Введите число: '))\n",
    "devider = 1\n",
    "deviders_list = list()\n",
    "\n",
    "while devider < number:\n",
    "    devider += 1\n",
    "    deviders_list.append(devider)\n",
    "    \n",
    "    for i in deviders_list:\n",
    "        if number % i == 0:\n",
    "            output = i\n",
    "            break\n",
    "\n",
    "print('Наименьший натуральный делитель числа', number, 'это', output)"
   ]
  },
  {
   "cell_type": "code",
   "execution_count": 3,
   "metadata": {},
   "outputs": [
    {
     "name": "stdout",
     "output_type": "stream",
     "text": [
      "Введите дистанцию марафона в киллометрах: 1\n",
      "Ввидите результат первого забега в киллометрах: 1\n",
      "Введите количество процентов, на которое будет увеличиваться результат: 100\n",
      "0\n"
     ]
    }
   ],
   "source": [
    "marathon_distance = int(input('Введите дистанцию марафона в киллометрах: '))\n",
    "first_run = int(input('Ввидите результат первого забега в киллометрах: '))\n",
    "percents = int(input('Введите количество процентов, на которое будет увеличиваться результат: '))\n",
    "days = 0\n",
    "one_run = first_run\n",
    "final_percents = percents\n",
    "\n",
    "while marathon_distance > one_run:\n",
    "    one_run = first_run * final_percents / 100\n",
    "    final_percents += percents\n",
    "    days += 1\n",
    "print(days)"
   ]
  },
  {
   "cell_type": "code",
   "execution_count": 22,
   "metadata": {},
   "outputs": [
    {
     "name": "stdout",
     "output_type": "stream",
     "text": [
      "Введите число: 1\n",
      "Искомая сумма равна: 1\n"
     ]
    }
   ],
   "source": [
    "n = int(input('Введите число: '))\n",
    "i = 0\n",
    "numbers_less_n = list()\n",
    "summ_of_squares = 0\n",
    "\n",
    "while i < n:\n",
    "    i += 1\n",
    "    numbers_less_n.append(i)\n",
    "    \n",
    "for number in numbers_less_n:\n",
    "    summ_of_squares += number ** 2\n",
    "print('Искомая сумма равна:', summ_of_squares)"
   ]
  },
  {
   "cell_type": "code",
   "execution_count": 26,
   "metadata": {},
   "outputs": [
    {
     "name": "stdout",
     "output_type": "stream",
     "text": [
      "Введите число: 7\n",
      "1\n",
      "2\n",
      "6\n",
      "24\n",
      "120\n",
      "720\n",
      "5040\n",
      "Искомая сумма равна: 5913\n"
     ]
    }
   ],
   "source": [
    "n = int(input('Введите число: '))\n",
    "i = 0\n",
    "numbers_less_n = list()\n",
    "factorial = 1\n",
    "summ_of_factorials = 0\n",
    "\n",
    "while i < n:\n",
    "    i += 1\n",
    "    numbers_less_n.append(i)\n",
    "    \n",
    "for number in numbers_less_n:\n",
    "    factorial = factorial * number\n",
    "    print(factorial)\n",
    "    summ_of_factorials += factorial\n",
    "    \n",
    "print('Искомая сумма равна:', summ_of_factorials)"
   ]
  },
  {
   "cell_type": "code",
   "execution_count": 8,
   "metadata": {},
   "outputs": [
    {
     "name": "stdout",
     "output_type": "stream",
     "text": [
      "Введите число: 1\n",
      "Введите число: 2\n",
      "Введите число: 3\n",
      "Введите число: 4\n",
      "Введите число: 5\n",
      "Введите число: 6\n",
      "Введите число: 7\n",
      "Введите число: 8\n",
      "Введите число: 9\n",
      "Введите число: 0\n",
      "Второе по величине число: 5\n"
     ]
    }
   ],
   "source": [
    "number = int(input('Введите число: '))\n",
    "parity = 0\n",
    "if number % 2 == 0:\n",
    "    parity += 1\n",
    "\n",
    "while number != 0:\n",
    "    number = int(input('Введите число: '))\n",
    "    if number % 2 == 0:\n",
    "        parity += 1\n",
    "    \n",
    "print('Второе по величине число:', parity)"
   ]
  },
  {
   "cell_type": "code",
   "execution_count": 20,
   "metadata": {},
   "outputs": [
    {
     "name": "stdout",
     "output_type": "stream",
     "text": [
      "Введите пол: мужской\n",
      "В женскую лигу можно только представительницам женского пола\n"
     ]
    }
   ],
   "source": [
    "sex = input('Введите пол: ')\n",
    "if sex.lower() == 'женский':\n",
    "    age = int(input('Введите ваш возраст: '))\n",
    "    if 18 <= age <= 35:\n",
    "        print('Вы подходите!')\n",
    "    else:\n",
    "        print('Вы не подходите по возрасту!')\n",
    "else:\n",
    "    print('В женскую лигу можно только представительницам женского пола')"
   ]
  },
  {
   "cell_type": "code",
   "execution_count": 49,
   "metadata": {},
   "outputs": [
    {
     "name": "stdout",
     "output_type": "stream",
     "text": [
      "Введите ширину ромба: 17\n",
      "         *         \n",
      "        ***        \n",
      "       *****       \n",
      "      *******      \n",
      "     *********     \n",
      "    ***********    \n",
      "   *************   \n",
      "  ***************  \n",
      " ***************** \n",
      "  ***************  \n",
      "   *************   \n",
      "    ***********    \n",
      "     *********     \n",
      "      *******      \n",
      "       *****       \n",
      "        ***        \n",
      "         *         \n"
     ]
    }
   ],
   "source": [
    "rhombus_width = int(input('Введите ширину ромба: '))\n",
    "check = rhombus_width\n",
    "stars = 1\n",
    "while rhombus_width > 0:\n",
    "    print(rhombus_width // 2 * ' ', stars * '*', rhombus_width // 2 * ' ')\n",
    "    stars += 2\n",
    "    rhombus_width += (-2)\n",
    "stars += (-2)\n",
    "rhombus_width += 2\n",
    "while rhombus_width < check:\n",
    "    stars += (-2)\n",
    "    rhombus_width += 2\n",
    "    print(rhombus_width // 2 * ' ', stars * '*', rhombus_width // 2 * ' ')"
   ]
  },
  {
   "cell_type": "code",
   "execution_count": 55,
   "metadata": {},
   "outputs": [
    {
     "name": "stdout",
     "output_type": "stream",
     "text": [
      "Введите ширину ромба: 5\n",
      "X X\n",
      "XX\n"
     ]
    }
   ],
   "source": [
    "x_width = int(input('Введите ширину ромба: ')) - 2\n",
    "check = x_width\n",
    "while x_width > 0:\n",
    "    spaces = x_width - 2\n",
    "    x_width += (-2)\n",
    "    print('X', spaces * ' ', 'X', sep='')"
   ]
  },
  {
   "cell_type": "code",
   "execution_count": 1,
   "metadata": {},
   "outputs": [
    {
     "data": {
      "text/plain": [
       "30"
      ]
     },
     "execution_count": 1,
     "metadata": {},
     "output_type": "execute_result"
    }
   ],
   "source": [
    "5 + 10 + 15"
   ]
  },
  {
   "cell_type": "code",
   "execution_count": 2,
   "metadata": {},
   "outputs": [
    {
     "data": {
      "text/plain": [
       "30"
      ]
     },
     "execution_count": 2,
     "metadata": {},
     "output_type": "execute_result"
    }
   ],
   "source": [
    "5 + (5+5) + (5+5+5)"
   ]
  },
  {
   "cell_type": "code",
   "execution_count": 9,
   "metadata": {},
   "outputs": [
    {
     "data": {
      "text/plain": [
       "180"
      ]
     },
     "execution_count": 9,
     "metadata": {},
     "output_type": "execute_result"
    }
   ],
   "source": [
    "5 + 10 + 15 + 20 + 25 + 30 + 35 + 40"
   ]
  },
  {
   "cell_type": "code",
   "execution_count": 6,
   "metadata": {},
   "outputs": [
    {
     "data": {
      "text/plain": [
       "40"
      ]
     },
     "execution_count": 6,
     "metadata": {},
     "output_type": "execute_result"
    }
   ],
   "source": [
    "40 % 60"
   ]
  },
  {
   "cell_type": "code",
   "execution_count": 97,
   "metadata": {},
   "outputs": [
    {
     "name": "stdout",
     "output_type": "stream",
     "text": [
      "Введите число: 121\n",
      "Введите число: 2432\n",
      "Введите число: 4232\n",
      "Введите число: 0\n",
      "2432\n"
     ]
    }
   ],
   "source": [
    "num = int(input(\"Введите число: \"))\n",
    "first_num = num\n",
    "second_num = num\n",
    "\n",
    "while True:\n",
    "  num = int(input(\"Введите число: \"))\n",
    "  if num == 0:\n",
    "    break\n",
    "  if (second_num == first_num) and (num < first_num):\n",
    "    second_num = num\n",
    "  elif num > first_num:\n",
    "    second_num = first_num\n",
    "    first_num = num\n",
    "  elif second_num < num < first_num:\n",
    "    second_num = num\n",
    "\n",
    "print(second_num)"
   ]
  },
  {
   "cell_type": "code",
   "execution_count": 1,
   "metadata": {},
   "outputs": [
    {
     "name": "stdout",
     "output_type": "stream",
     "text": [
      "Тип kwargs <class 'dict'>\n",
      "{'name': 'Вася', 'adress': 'Moscow', 'age': '42'}\n",
      "Именованый аргумент: name = Вася\n",
      "Именованый аргумент: adress = Moscow\n",
      "Именованый аргумент: age = 42\n"
     ]
    }
   ],
   "source": [
    "def print_them_all_v2(**kwargs):\n",
    "    print('Тип kwargs', type(kwargs))\n",
    "    print(kwargs)\n",
    "    for key, value in kwargs.items():\n",
    "        print('Именованый аргумент:', key, '=', value)\n",
    "        \n",
    "print_them_all_v2(name='Вася', adress='Moscow', age='42')"
   ]
  },
  {
   "cell_type": "code",
   "execution_count": 9,
   "metadata": {},
   "outputs": [
    {
     "name": "stdout",
     "output_type": "stream",
     "text": [
      "print_them_all_final\n",
      "a и b: 5 5\n",
      "тип args: <class 'tuple'>\n",
      "(6, 7, 8)\n",
      "Позиционный параметр: 0 6\n",
      "Позиционный параметр: 1 7\n",
      "Позиционный параметр: 2 8\n",
      "тип kwargs: <class 'dict'>\n",
      "{'cat': 'nyan', 'adress': 'Tokio'}\n",
      "Именованный аргумент: cat = nyan\n",
      "Именованный аргумент: adress = Tokio\n"
     ]
    }
   ],
   "source": [
    "def print_them_all_final(a, b=4, *args, **kwargs):\n",
    "    print('print_them_all_final')\n",
    "    print('a и b:', a, b)\n",
    "    print('тип args:', type(args))\n",
    "    print(args)\n",
    "    for i, arg in enumerate(args):\n",
    "        print('Позиционный параметр:', i, arg)\n",
    "    print('тип kwargs:', type(kwargs))\n",
    "    print(kwargs)\n",
    "    for key, value in kwargs.items():\n",
    "        print('Именованный аргумент:', key, '=', value)\n",
    "\n",
    "        \n",
    "pos = (5, 6, 7, 8)\n",
    "names = {'cat': 'nyan', 'adress': 'Tokio'}\n",
    "print_them_all_final(5, *pos, **names)    "
   ]
  },
  {
   "cell_type": "code",
   "execution_count": 42,
   "metadata": {},
   "outputs": [
    {
     "name": "stdout",
     "output_type": "stream",
     "text": [
      "0.3333333333333333\n"
     ]
    }
   ],
   "source": [
    "def exponente_v2(n, m):\n",
    "    if m == -1:\n",
    "        return 1 / n\n",
    "    exponente_v2_minus_1 = exponente_v2(n, m=m+1)\n",
    "    return 1 / n * exponente_v2_minus_1\n",
    "\n",
    "print(exponente_v2(3, -1))"
   ]
  },
  {
   "cell_type": "code",
   "execution_count": 43,
   "metadata": {},
   "outputs": [
    {
     "data": {
      "text/plain": [
       "0.3333333333333333"
      ]
     },
     "execution_count": 43,
     "metadata": {},
     "output_type": "execute_result"
    }
   ],
   "source": [
    "3 ** (-1)"
   ]
  },
  {
   "cell_type": "code",
   "execution_count": 3,
   "metadata": {},
   "outputs": [
    {
     "name": "stdout",
     "output_type": "stream",
     "text": [
      "Колобок\n"
     ]
    }
   ],
   "source": [
    "html_dom = {\n",
    "    'html' : {\n",
    "        'head' : {\n",
    "            'title' : 'Колобок'\n",
    "        },\n",
    "        'body' : {\n",
    "            'h2' : 'Привет!',\n",
    "            'div' : 'Хочешь расскажу тебе сказку?',\n",
    "            'p' : 'Жили были дед и бабка...'\n",
    "        }\n",
    "    }\n",
    "}\n",
    "\n",
    "\n",
    "def find_element(tree, element_name):\n",
    "    if element_name in tree:\n",
    "        return tree[element_name]\n",
    "    for key, sub_tree in tree.items():\n",
    "        if isinstance(sub_tree, dict):\n",
    "            result = find_element(tree=sub_tree, element_name=element_name)\n",
    "            if result:\n",
    "                break\n",
    "    else:\n",
    "        result = None\n",
    "    return result\n",
    "\n",
    "res = find_element(tree=html_dom, element_name='title')\n",
    "print(res)"
   ]
  },
  {
   "cell_type": "code",
   "execution_count": 45,
   "metadata": {},
   "outputs": [
    {
     "name": "stdout",
     "output_type": "stream",
     "text": [
      "7\n",
      "0\n"
     ]
    }
   ],
   "source": [
    "S = 0\n",
    "def sum(n, m):\n",
    "    S = n + m\n",
    "    return S\n",
    "\n",
    "print(sum(3, 4))\n",
    "print(S)"
   ]
  },
  {
   "cell_type": "code",
   "execution_count": 1,
   "metadata": {},
   "outputs": [
    {
     "data": {
      "text/plain": [
       "True"
      ]
     },
     "execution_count": 1,
     "metadata": {},
     "output_type": "execute_result"
    }
   ],
   "source": [
    "bool(-1)"
   ]
  },
  {
   "cell_type": "code",
   "execution_count": 18,
   "metadata": {},
   "outputs": [
    {
     "name": "stdout",
     "output_type": "stream",
     "text": [
      "(200, 300, 500, 100, 1800)\n",
      "5\n",
      "1800\n",
      "100\n",
      "[100, 200, 300, 500, 1800]\n",
      "2900\n",
      "(200, 300, 500, 100, 1800)\n",
      "{'пн': 200, 'вт': 300, 'ср': 500, 'чт': 100, 'пт': 1800}\n"
     ]
    }
   ],
   "source": [
    "#Операции со списками\n",
    "\n",
    "profit = (200, 300, 500, 100, 1800)\n",
    "days = ('пн', 'вт', 'ср', 'чт', 'пт', 'сб')\n",
    "\n",
    "print(profit)\n",
    "print(len(profit))\n",
    "print(max(profit))\n",
    "print(min(profit))\n",
    "print(sorted(profit))\n",
    "print(sum(profit))\n",
    "print(profit)\n",
    "\n",
    "res = zip(days, profit)\n",
    "print(dict(res))"
   ]
  },
  {
   "cell_type": "code",
   "execution_count": 10,
   "metadata": {},
   "outputs": [
    {
     "name": "stdout",
     "output_type": "stream",
     "text": [
      "(1.0, 2.0)\n"
     ]
    }
   ],
   "source": [
    "a = 2\n",
    "b = 4\n",
    "def reduction(a, b):\n",
    "    for i in range(1, min(a, b)+1):\n",
    "        if a % i == 0 and b % i == 0:\n",
    "            a = a / i\n",
    "            b = b / i\n",
    "    return a, b\n",
    "    \n",
    "print(reduction(a, b))"
   ]
  },
  {
   "cell_type": "code",
   "execution_count": 26,
   "metadata": {},
   "outputs": [
    {
     "name": "stdout",
     "output_type": "stream",
     "text": [
      "конструктор класса B\n",
      "конструктор класса A\n",
      "<__main__.B object at 0x000001BC69707668>\n"
     ]
    }
   ],
   "source": [
    "# Родительский класс\n",
    " \n",
    "class A(object):\n",
    " \n",
    "    def __init__(self):\n",
    "        print(u'конструктор класса A')\n",
    " \n",
    "# Потомок класса А\n",
    "class B(A):\n",
    " \n",
    "    def __init__(self):\n",
    "        print(u'конструктор класса B')\n",
    "        super(B,self).__init__()\n",
    "        \n",
    "a = B()\n",
    "print(a)"
   ]
  },
  {
   "cell_type": "code",
   "execution_count": 1,
   "metadata": {},
   "outputs": [],
   "source": [
    "import numpy as np"
   ]
  },
  {
   "cell_type": "code",
   "execution_count": 2,
   "metadata": {},
   "outputs": [
    {
     "data": {
      "text/plain": [
       "4.123105625617661"
      ]
     },
     "execution_count": 2,
     "metadata": {},
     "output_type": "execute_result"
    }
   ],
   "source": [
    "np.sqrt(17)"
   ]
  },
  {
   "cell_type": "code",
   "execution_count": 3,
   "metadata": {},
   "outputs": [
    {
     "data": {
      "text/plain": [
       "1.3862943611198906"
      ]
     },
     "execution_count": 3,
     "metadata": {},
     "output_type": "execute_result"
    }
   ],
   "source": [
    "np.log(4)"
   ]
  },
  {
   "cell_type": "code",
   "execution_count": 7,
   "metadata": {},
   "outputs": [
    {
     "data": {
      "text/plain": [
       "102.5"
      ]
     },
     "execution_count": 7,
     "metadata": {},
     "output_type": "execute_result"
    }
   ],
   "source": [
    "np.mean([20, 40, 30, 450, 45, 30])"
   ]
  },
  {
   "cell_type": "code",
   "execution_count": 8,
   "metadata": {},
   "outputs": [
    {
     "data": {
      "text/plain": [
       "35.0"
      ]
     },
     "execution_count": 8,
     "metadata": {},
     "output_type": "execute_result"
    }
   ],
   "source": [
    "np.median([20, 40, 30, 450, 45, 30])"
   ]
  },
  {
   "cell_type": "code",
   "execution_count": 10,
   "metadata": {},
   "outputs": [
    {
     "data": {
      "text/plain": [
       "array([2, 3, 4])"
      ]
     },
     "execution_count": 10,
     "metadata": {},
     "output_type": "execute_result"
    }
   ],
   "source": [
    "np.array([2, 3, 4])"
   ]
  },
  {
   "cell_type": "code",
   "execution_count": 12,
   "metadata": {},
   "outputs": [
    {
     "data": {
      "text/plain": [
       "array([[5. , 2. , 3.5],\n",
       "       [1. , 9. , 6.5]])"
      ]
     },
     "execution_count": 12,
     "metadata": {},
     "output_type": "execute_result"
    }
   ],
   "source": [
    "np.array([[5, 2, 3.5],\n",
    "          [1, 9, 6.5]])"
   ]
  },
  {
   "cell_type": "code",
   "execution_count": 15,
   "metadata": {},
   "outputs": [
    {
     "data": {
      "text/plain": [
       "array([[[6, 3],\n",
       "        [6, 8]],\n",
       "\n",
       "       [[1, 0],\n",
       "        [0, 1]]])"
      ]
     },
     "execution_count": 15,
     "metadata": {},
     "output_type": "execute_result"
    }
   ],
   "source": [
    "np.array([[[6, 3],\n",
    "           [6, 8]], \n",
    "          [[1, 0],\n",
    "           [0, 1]]])\n",
    "    "
   ]
  },
  {
   "cell_type": "code",
   "execution_count": 18,
   "metadata": {},
   "outputs": [
    {
     "data": {
      "text/plain": [
       "array([62., 43., 79., 56.])"
      ]
     },
     "execution_count": 18,
     "metadata": {},
     "output_type": "execute_result"
    }
   ],
   "source": [
    "turnout = np.array([0.62, 0.43, 0.79, 0.56])\n",
    "turnout * 100"
   ]
  },
  {
   "cell_type": "code",
   "execution_count": 111,
   "metadata": {},
   "outputs": [
    {
     "name": "stdout",
     "output_type": "stream",
     "text": [
      "1 2 3 3 3 3\n",
      "5 4 5 6 6 4 "
     ]
    }
   ],
   "source": [
    "i = 0\n",
    "x = 0\n",
    "a = [int(i) for i in input().split()]\n",
    "for j in range(len(a)):\n",
    "    if len(a) == 1:\n",
    "        print(a[0])\n",
    "    elif j == len(a)-1:\n",
    "        x = a[0] + a[j-1]\n",
    "        print(x, end=' ')\n",
    "    else:\n",
    "        x = a[j-1] + a[j+1]\n",
    "        print(x, end=' ')"
   ]
  },
  {
   "cell_type": "code",
   "execution_count": 95,
   "metadata": {},
   "outputs": [
    {
     "name": "stdout",
     "output_type": "stream",
     "text": [
      "dffdddffff\n",
      "d1f2d3f4"
     ]
    }
   ],
   "source": [
    "text = input()+' '\n",
    "letter = text[0]\n",
    "count = 0\n",
    "for i in text:\n",
    "    if i != letter:\n",
    "        print(letter + str(count), end='')\n",
    "        count = 1\n",
    "        letter = i\n",
    "    else:\n",
    "        count += 1"
   ]
  },
  {
   "cell_type": "code",
   "execution_count": 69,
   "metadata": {},
   "outputs": [
    {
     "data": {
      "text/plain": [
       "True"
      ]
     },
     "execution_count": 69,
     "metadata": {},
     "output_type": "execute_result"
    }
   ],
   "source": [
    "'d' == 'd'"
   ]
  },
  {
   "cell_type": "code",
   "execution_count": 38,
   "metadata": {},
   "outputs": [
    {
     "name": "stdout",
     "output_type": "stream",
     "text": [
      "ffffddddfffd\n",
      "f4d4f3d1\n"
     ]
    }
   ],
   "source": [
    "s = str(input())\n",
    "l = len(s)-1\n",
    "c = 1\n",
    "t = ''\n",
    "if len(s)==1:\n",
    "    t = t +s+str(c)\n",
    "else:\n",
    "    for i in range(0,l):\n",
    "        if s[i]==s[i+1]:\n",
    "            c +=1\n",
    "        elif s[i]!=s[i+1]:\n",
    "            t = t + s[i]+str(c)\n",
    "            c = 1\n",
    "    for j in range(l,l+1):\n",
    "        if s[-1]==s[-2]:\n",
    "            t = t +s[j]+str(c)\n",
    "        elif s[-1]!=s[-2]:\n",
    "            t = t +s[j]+str(c)\n",
    "            c = 1\n",
    "print(t)"
   ]
  },
  {
   "cell_type": "code",
   "execution_count": 174,
   "metadata": {},
   "outputs": [
    {
     "name": "stdout",
     "output_type": "stream",
     "text": [
      "10\n"
     ]
    }
   ],
   "source": [
    "numbers = [int(i) for i in input().split(' ')]\n",
    "numbers.sort()\n",
    "final = []\n",
    "for i in range(len(numbers)):\n",
    "    if len(numbers) == 1: \n",
    "        final = [] # при подаче одного элемента не выдает его же в результате\n",
    "    elif numbers[i] == numbers[i-1]:\n",
    "        if numbers[i] not in final:\n",
    "            final.append(numbers[i])\n",
    "# if len(final) == 0:\n",
    "#     print(' ')\n",
    "# else:\n",
    "#     for i in final:\n",
    "#         print(i, end=' ')\n",
    "# этот кусок вставляем если нужен возврат ' ' при отсутствии повторений\n",
    "\n",
    "for i in final:\n",
    "    print(i, end=' ') # если не нужен возврат ' ' при отсутствии повторений"
   ]
  },
  {
   "cell_type": "code",
   "execution_count": 175,
   "metadata": {},
   "outputs": [
    {
     "name": "stdout",
     "output_type": "stream",
     "text": [
      "-10\n"
     ]
    }
   ],
   "source": [
    "print(int(-10))"
   ]
  },
  {
   "cell_type": "code",
   "execution_count": 185,
   "metadata": {},
   "outputs": [
    {
     "name": "stdout",
     "output_type": "stream",
     "text": [
      "2\n",
      "-2\n",
      "8\n"
     ]
    }
   ],
   "source": [
    "num = int(input())\n",
    "summ = num\n",
    "sqrt_summ = summ**2\n",
    "while summ != 0:\n",
    "    num = int(input())\n",
    "    summ += num\n",
    "    sqrt_summ += num**2\n",
    "print(sqrt_summ)"
   ]
  },
  {
   "cell_type": "code",
   "execution_count": 16,
   "metadata": {},
   "outputs": [
    {
     "name": "stdout",
     "output_type": "stream",
     "text": [
      "1 1 1\n",
      "1\n",
      "0 1 2 "
     ]
    }
   ],
   "source": [
    "lst = [int(i) for i in input().split(' ')]\n",
    "x = int(input())\n",
    "funn = ''\n",
    "if x not in lst:\n",
    "    print(\"Отсутствует\")\n",
    "else:\n",
    "    for j in range(len(lst)):\n",
    "        if lst[j] == x:\n",
    "            print(str(j), end=' ')"
   ]
  },
  {
   "cell_type": "code",
   "execution_count": null,
   "metadata": {},
   "outputs": [
    {
     "name": "stdout",
     "output_type": "stream",
     "text": [
      "1 2 3\n",
      "1 2 3\n",
      "1 2 3\n",
      "end\n"
     ]
    }
   ],
   "source": [
    "lst = input()\n",
    "matrx = [lst]\n",
    "while lst != 'end':\n",
    "    lst = input()\n",
    "    lst = lst.split(' ')\n",
    "    matrx.append(lst)\n",
    "print(matrx)"
   ]
  },
  {
   "cell_type": "code",
   "execution_count": 7,
   "metadata": {},
   "outputs": [
    {
     "name": "stdout",
     "output_type": "stream",
     "text": [
      "[2, 7]\n",
      "[5, 8]\n",
      "[0, 1]\n"
     ]
    }
   ],
   "source": [
    "l = [[2, 5, 0], [7, 8, 1]]\n",
    "r = [[l[j][i] for j in range(len(l))] for i in range(len(l[0]))]\n",
    "print(*(i for i in r), sep='\\n')"
   ]
  },
  {
   "cell_type": "code",
   "execution_count": 4,
   "metadata": {},
   "outputs": [],
   "source": [
    "import numpy as np\n",
    "A = np.array([[2, 9, 8, 0],\n",
    "             [8, 7, 5, 6], \n",
    "             [3, 1, 0, 2], \n",
    "             [6, 5, 6, 8],\n",
    "             [1, 0, 0, 4]])"
   ]
  },
  {
   "cell_type": "code",
   "execution_count": 24,
   "metadata": {},
   "outputs": [
    {
     "data": {
      "text/plain": [
       "array([[2, 8, 3, 6, 1],\n",
       "       [9, 7, 1, 5, 0],\n",
       "       [8, 5, 0, 6, 0],\n",
       "       [0, 6, 2, 8, 4]])"
      ]
     },
     "execution_count": 24,
     "metadata": {},
     "output_type": "execute_result"
    }
   ],
   "source": [
    "res = [[A[j][i] for j in range(len(A))] for i in range (len(A[0]))]\n",
    "np.array(res)"
   ]
  },
  {
   "cell_type": "code",
   "execution_count": 8,
   "metadata": {},
   "outputs": [
    {
     "name": "stdout",
     "output_type": "stream",
     "text": [
      "0\n",
      "1\n",
      "0.5\n",
      "0.0\n",
      "-0.5\n",
      "-1.0\n"
     ]
    }
   ],
   "source": [
    "def f(x):\n",
    "    if x <= -2:\n",
    "        x = 1 - (x + 2)**2\n",
    "    elif -2 < x <= 2:\n",
    "        x = -x/2\n",
    "    elif 2 < x:\n",
    "        x = (x - 2)**2 + 1\n",
    "    return x\n",
    "\n",
    "for i in range(-3, 3):\n",
    "    print(f(i))"
   ]
  },
  {
   "cell_type": "code",
   "execution_count": 52,
   "metadata": {},
   "outputs": [
    {
     "ename": "TypeError",
     "evalue": "int() argument must be a string, a bytes-like object or a number, not 'list'",
     "output_type": "error",
     "traceback": [
      "\u001b[1;31m---------------------------------------------------------------------------\u001b[0m",
      "\u001b[1;31mTypeError\u001b[0m                                 Traceback (most recent call last)",
      "\u001b[1;32m<ipython-input-52-aa7d6887d705>\u001b[0m in \u001b[0;36m<module>\u001b[1;34m\u001b[0m\n\u001b[0;32m      9\u001b[0m     \u001b[1;32mreturn\u001b[0m\u001b[1;33m(\u001b[0m\u001b[0mt\u001b[0m\u001b[1;33m)\u001b[0m\u001b[1;33m\u001b[0m\u001b[1;33m\u001b[0m\u001b[0m\n\u001b[0;32m     10\u001b[0m \u001b[1;33m\u001b[0m\u001b[0m\n\u001b[1;32m---> 11\u001b[1;33m \u001b[0mprint\u001b[0m\u001b[1;33m(\u001b[0m\u001b[0mmodify_list\u001b[0m\u001b[1;33m(\u001b[0m\u001b[0ml\u001b[0m\u001b[1;33m)\u001b[0m\u001b[1;33m)\u001b[0m\u001b[1;33m\u001b[0m\u001b[1;33m\u001b[0m\u001b[0m\n\u001b[0m",
      "\u001b[1;32m<ipython-input-52-aa7d6887d705>\u001b[0m in \u001b[0;36mmodify_list\u001b[1;34m(l)\u001b[0m\n\u001b[0;32m      3\u001b[0m     \u001b[0mt\u001b[0m \u001b[1;33m=\u001b[0m \u001b[1;33m[\u001b[0m\u001b[1;33m]\u001b[0m\u001b[1;33m\u001b[0m\u001b[1;33m\u001b[0m\u001b[0m\n\u001b[0;32m      4\u001b[0m     \u001b[1;32mfor\u001b[0m \u001b[0mi\u001b[0m \u001b[1;32min\u001b[0m \u001b[1;33m(\u001b[0m\u001b[0ml\u001b[0m\u001b[1;33m,\u001b[0m \u001b[1;36m1\u001b[0m\u001b[1;33m,\u001b[0m \u001b[1;33m-\u001b[0m\u001b[1;36m1\u001b[0m\u001b[1;33m)\u001b[0m\u001b[1;33m:\u001b[0m\u001b[1;33m\u001b[0m\u001b[1;33m\u001b[0m\u001b[0m\n\u001b[1;32m----> 5\u001b[1;33m         \u001b[1;32mif\u001b[0m \u001b[0mint\u001b[0m\u001b[1;33m(\u001b[0m\u001b[0mi\u001b[0m\u001b[1;33m)\u001b[0m \u001b[1;33m%\u001b[0m \u001b[1;36m2\u001b[0m \u001b[1;33m!=\u001b[0m \u001b[1;36m0\u001b[0m\u001b[1;33m:\u001b[0m\u001b[1;33m\u001b[0m\u001b[1;33m\u001b[0m\u001b[0m\n\u001b[0m\u001b[0;32m      6\u001b[0m             \u001b[0ml\u001b[0m\u001b[1;33m.\u001b[0m\u001b[0mremove\u001b[0m\u001b[1;33m(\u001b[0m\u001b[0mi\u001b[0m\u001b[1;33m)\u001b[0m\u001b[1;33m\u001b[0m\u001b[1;33m\u001b[0m\u001b[0m\n\u001b[0;32m      7\u001b[0m     \u001b[1;32mfor\u001b[0m \u001b[0mi\u001b[0m \u001b[1;32min\u001b[0m \u001b[0ml\u001b[0m\u001b[1;33m:\u001b[0m\u001b[1;33m\u001b[0m\u001b[1;33m\u001b[0m\u001b[0m\n",
      "\u001b[1;31mTypeError\u001b[0m: int() argument must be a string, a bytes-like object or a number, not 'list'"
     ]
    }
   ],
   "source": [
    "l = [3, 4, 5, 6]\n",
    "def modify_list(l):\n",
    "    t = []\n",
    "    for i in (l, 1, -1):\n",
    "        if i % 2 != 0:\n",
    "            l.remove(i)\n",
    "    for i in l:\n",
    "        t.append(int(i/2))\n",
    "    return(t)\n",
    "\n",
    "print(modify_list(l))"
   ]
  },
  {
   "cell_type": "code",
   "execution_count": 136,
   "metadata": {},
   "outputs": [
    {
     "data": {
      "text/plain": [
       "array([[1., 0., 0., 0., 0.],\n",
       "       [0., 1., 0., 0., 0.],\n",
       "       [0., 0., 1., 0., 0.],\n",
       "       [0., 0., 0., 1., 0.],\n",
       "       [0., 0., 0., 0., 1.]])"
      ]
     },
     "execution_count": 136,
     "metadata": {},
     "output_type": "execute_result"
    }
   ],
   "source": [
    "import numpy as np\n",
    "def build_array(n):\n",
    "    f = np.zeros((n, n))\n",
    "    for i in range(n):\n",
    "        f[i][i] = 1.\n",
    "    return f\n",
    "\n",
    "build_array(5)"
   ]
  },
  {
   "cell_type": "code",
   "execution_count": 65,
   "metadata": {},
   "outputs": [],
   "source": [
    "arr = np.load('array_hw.npy')"
   ]
  },
  {
   "cell_type": "code",
   "execution_count": 66,
   "metadata": {},
   "outputs": [
    {
     "data": {
      "text/plain": [
       "array([[100,  80,  70,  60, 120],\n",
       "       [ 65,  55,  20,  50,  60],\n",
       "       [ 80,  90,  75,  80,  60],\n",
       "       [ 45,  60,  70,  20,  40],\n",
       "       [ 82,  47,  56,  89,  92],\n",
       "       [115, 120, 113, 106, 107],\n",
       "       [ 46,  74,  23,  34,  19]], dtype=int64)"
      ]
     },
     "execution_count": 66,
     "metadata": {},
     "output_type": "execute_result"
    }
   ],
   "source": [
    "arr"
   ]
  },
  {
   "cell_type": "code",
   "execution_count": 67,
   "metadata": {},
   "outputs": [
    {
     "data": {
      "text/plain": [
       "array([[100,  65,  80,  45,  82, 115,  46],\n",
       "       [ 80,  55,  90,  60,  47, 120,  74],\n",
       "       [ 70,  20,  75,  70,  56, 113,  23],\n",
       "       [ 60,  50,  80,  20,  89, 106,  34],\n",
       "       [120,  60,  60,  40,  92, 107,  19]], dtype=int64)"
      ]
     },
     "execution_count": 67,
     "metadata": {},
     "output_type": "execute_result"
    }
   ],
   "source": [
    "arr.T"
   ]
  },
  {
   "cell_type": "code",
   "execution_count": 69,
   "metadata": {},
   "outputs": [],
   "source": [
    "arr = arr.T"
   ]
  },
  {
   "cell_type": "code",
   "execution_count": 70,
   "metadata": {},
   "outputs": [
    {
     "data": {
      "text/plain": [
       "array([[100,  65,  80,  45,  82, 115,  46],\n",
       "       [ 80,  55,  90,  60,  47, 120,  74],\n",
       "       [ 70,  20,  75,  70,  56, 113,  23],\n",
       "       [ 60,  50,  80,  20,  89, 106,  34],\n",
       "       [120,  60,  60,  40,  92, 107,  19]], dtype=int64)"
      ]
     },
     "execution_count": 70,
     "metadata": {},
     "output_type": "execute_result"
    }
   ],
   "source": [
    "arr"
   ]
  },
  {
   "cell_type": "code",
   "execution_count": 73,
   "metadata": {},
   "outputs": [],
   "source": [
    "arr[4][6] = 25\n",
    "arr[1][1] = 65"
   ]
  },
  {
   "cell_type": "code",
   "execution_count": 74,
   "metadata": {},
   "outputs": [
    {
     "data": {
      "text/plain": [
       "array([[100,  65,  80,  45,  82, 115,  46],\n",
       "       [ 80,  65,  90,  60,  47, 120,  74],\n",
       "       [ 70,  20,  75,  70,  56, 113,  23],\n",
       "       [ 60,  50,  80,  20,  89, 106,  34],\n",
       "       [120,  60,  60,  40,  92, 107,  25]], dtype=int64)"
      ]
     },
     "execution_count": 74,
     "metadata": {},
     "output_type": "execute_result"
    }
   ],
   "source": [
    "arr"
   ]
  },
  {
   "cell_type": "code",
   "execution_count": 75,
   "metadata": {},
   "outputs": [
    {
     "data": {
      "text/plain": [
       "2439"
      ]
     },
     "execution_count": 75,
     "metadata": {},
     "output_type": "execute_result"
    }
   ],
   "source": [
    "np.sum(arr)"
   ]
  },
  {
   "cell_type": "code",
   "execution_count": 76,
   "metadata": {},
   "outputs": [],
   "source": [
    "income = np.array([1000, 2000, 3500, \n",
    "                   2500, 1500, 3800, \n",
    "                   1200, 9000, 12000,\n",
    "                   4500, 6700, 11000])"
   ]
  },
  {
   "cell_type": "code",
   "execution_count": 81,
   "metadata": {},
   "outputs": [],
   "source": [
    "income = income.reshape(4, 3)"
   ]
  },
  {
   "cell_type": "code",
   "execution_count": 82,
   "metadata": {},
   "outputs": [
    {
     "data": {
      "text/plain": [
       "array([[ 1000,  2000,  3500],\n",
       "       [ 2500,  1500,  3800],\n",
       "       [ 1200,  9000, 12000],\n",
       "       [ 4500,  6700, 11000]])"
      ]
     },
     "execution_count": 82,
     "metadata": {},
     "output_type": "execute_result"
    }
   ],
   "source": [
    "income"
   ]
  },
  {
   "cell_type": "code",
   "execution_count": 122,
   "metadata": {},
   "outputs": [
    {
     "data": {
      "text/plain": [
       "list"
      ]
     },
     "execution_count": 122,
     "metadata": {},
     "output_type": "execute_result"
    }
   ],
   "source": [
    "turnout = [23.56, 45.78, 34.92, 57.34, 56.55, 67.23]\n",
    "type(turnout)"
   ]
  },
  {
   "cell_type": "code",
   "execution_count": 123,
   "metadata": {},
   "outputs": [
    {
     "data": {
      "text/plain": [
       "[23.6, 45.8, 34.9, 57.3, 56.5, 67.2]"
      ]
     },
     "execution_count": 123,
     "metadata": {},
     "output_type": "execute_result"
    }
   ],
   "source": [
    "turnout = [23.56, 45.78, 34.92, 57.34, 56.55, 67.23]\n",
    "for i in range(len(turnout)):\n",
    "    turnout[i] = round(turnout[i], 1)\n",
    "turnout"
   ]
  },
  {
   "cell_type": "code",
   "execution_count": 126,
   "metadata": {},
   "outputs": [
    {
     "data": {
      "text/plain": [
       "array([23.6, 45.8, 34.9, 57.3, 56.6, 67.2])"
      ]
     },
     "execution_count": 126,
     "metadata": {},
     "output_type": "execute_result"
    }
   ],
   "source": [
    "turnout = np.array([23.56, 45.78, 34.92, 57.34, 56.55, 67.23])\n",
    "np.around(turnout, 1)"
   ]
  },
  {
   "cell_type": "code",
   "execution_count": 138,
   "metadata": {},
   "outputs": [
    {
     "name": "stdout",
     "output_type": "stream",
     "text": [
      "[('Бангладеш', 5. , 68.9, 0.7) ('Молдавия', 5.6, 69.3, 2.1)\n",
      " ('Государство Палестина', 4.8, 72.8, 1.4) ('Албания', 5.3, 76.9, 1.8)\n",
      " ('Гондурас', 5.9, 73.1, 1.7)]\n"
     ]
    }
   ],
   "source": [
    "happy = np.array([('Бангладеш', 5.0, 68.9, 0.7), ('Молдавия', 5.6, 69.3, 2.1), ('Государство Палестина', 4.8, 72.8, 1.4), \n",
    "                  ('Албания', 5.3, 76.9, 1.8), ('Гондурас', 5.9, 73.1, 1.7)], \n",
    "                 dtype=[('Название страны', 'U25'), ('Удовлетворенность жизнью', float), \n",
    "                        ('Ожидаемая продолжительность жизни', float), ('Эколон=гический след', float)])\n",
    "print(happy)"
   ]
  },
  {
   "cell_type": "code",
   "execution_count": 140,
   "metadata": {},
   "outputs": [
    {
     "data": {
      "text/plain": [
       "('Молдавия', 5.6, 69.3, 2.1)"
      ]
     },
     "execution_count": 140,
     "metadata": {},
     "output_type": "execute_result"
    }
   ],
   "source": [
    "happy.tolist()[1]"
   ]
  },
  {
   "cell_type": "code",
   "execution_count": 49,
   "metadata": {},
   "outputs": [
    {
     "data": {
      "text/plain": [
       "array([], dtype=float64)"
      ]
     },
     "execution_count": 49,
     "metadata": {},
     "output_type": "execute_result"
    }
   ],
   "source": [
    "import numpy as np\n",
    "def my_reshape(a, l, k):\n",
    "    f = a.ravel().tolist()\n",
    "    if l * k == len(f):\n",
    "        a = np.array([[None for j in range(k)] for i in range(l)])\n",
    "        t = 0\n",
    "        for i in range(l):\n",
    "            for j in range(k):\n",
    "                a[i][j] = f[t]\n",
    "                t += 1\n",
    "        return a\n",
    "    else:\n",
    "        return np.array([])\n",
    "\n",
    "A = np.array([[2, 4, 6], \n",
    "        [4, 8, 10]])\n",
    "\n",
    "my_reshape(A, 4, 2)"
   ]
  },
  {
   "cell_type": "code",
   "execution_count": null,
   "metadata": {},
   "outputs": [],
   "source": []
  }
 ],
 "metadata": {
  "kernelspec": {
   "display_name": "Python 3",
   "language": "python",
   "name": "python3"
  },
  "language_info": {
   "codemirror_mode": {
    "name": "ipython",
    "version": 3
   },
   "file_extension": ".py",
   "mimetype": "text/x-python",
   "name": "python",
   "nbconvert_exporter": "python",
   "pygments_lexer": "ipython3",
   "version": "3.7.3"
  }
 },
 "nbformat": 4,
 "nbformat_minor": 2
}
