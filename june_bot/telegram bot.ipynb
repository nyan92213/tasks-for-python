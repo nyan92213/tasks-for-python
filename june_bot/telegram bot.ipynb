{
 "cells": [
  {
   "cell_type": "code",
   "execution_count": 2,
   "metadata": {},
   "outputs": [],
   "source": [
    "from telegram import Update, KeyboardButton, ReplyKeyboardMarkup, ReplyKeyboardRemove\n",
    "from telegram.ext import Updater, CommandHandler, MessageHandler, Filters, CallbackContext\n",
    "from datetime import datetime, date, time"
   ]
  },
  {
   "cell_type": "code",
   "execution_count": 7,
   "metadata": {},
   "outputs": [],
   "source": [
    "class Tree(object):\n",
    "    \"Generic tree node.\"\n",
    "    def __init__(self, name='root', description=None,  deadline=None, children=None):\n",
    "        self.name = name\n",
    "        self.description = description\n",
    "        self.deadline = deadline\n",
    "        self.children = []\n",
    "        if children is not None:\n",
    "            for child in children:\n",
    "                self.add_child(child)\n",
    "                \n",
    "    def __repr__(self):\n",
    "        return self.name\n",
    "    \n",
    "    def add_child(self, node):\n",
    "        assert isinstance(node, Tree) # is node has type Tree?\n",
    "        if node.name not in str(self.children):\n",
    "            self.children.append(node)\n",
    "            node.description = description\n",
    "            node.deadline = deadline\n",
    "            \n",
    "    def del_child(self, node):\n",
    "        assert isinstance(node, Tree)\n",
    "        for child in self.children:\n",
    "            if node.name == child.name:\n",
    "                self.children.remove(child)\n",
    "                \n",
    "    def return_task(self):\n",
    "        return self.name, self.description, self.deadline, self.children\n",
    "    \n",
    "t = Tree('*', 'звездочка', datetime(2006, 11, 21, 16, 30))"
   ]
  },
  {
   "cell_type": "code",
   "execution_count": 9,
   "metadata": {},
   "outputs": [],
   "source": [
    "button_help = 'Помощь'\n",
    "button_create_task = 'Создать_задачу'\n",
    "\n",
    "def button_create_task(update: Update, context: CallbackContext):\n",
    "    update.message.reply_text(\n",
    "        text = 'Создать задачу',\n",
    "        reply_markup = ReplyKeyboardRemove(),\n",
    "    )\n",
    "\n",
    "def button_help_handler(update: Update, context: CallbackContext):\n",
    "    update.message.reply_text(\n",
    "        text = 'Это помощь',\n",
    "        reply_markup = ReplyKeyboardRemove(),\n",
    "    )\n",
    "    \n",
    "\n",
    "def message_handler(update: Update, context: CallbackContext):\n",
    "    text = update.message.text\n",
    "    if text == button_help:\n",
    "        return button_help_handler(update=update, context=context)\n",
    "#     elif text == button_create_task:\n",
    "#         return button_create_task(update=update, context=context)\n",
    "    \n",
    "    \n",
    "    reply_markup = ReplyKeyboardMarkup(\n",
    "        keyboard = [\n",
    "            [\n",
    "                KeyboardButton(text=button_help), \n",
    "            ],\n",
    "            [\n",
    "                KeyboardButton(text=button_create_task), \n",
    "            ],\n",
    "        ],\n",
    "        resize_keyboard=True\n",
    "    )\n",
    "    \n",
    "    \n",
    "    update.message.reply_text(\n",
    "        text = 'Жми кнопку',\n",
    "        reply_markup = reply_markup\n",
    "    )\n",
    "\n",
    "def main():\n",
    "    print('Start')\n",
    "    \n",
    "    updater = Updater(\n",
    "        token='1416136283:AAEFSEES9VfU6mtcZRCybUDrI27BMtSdCjo',\n",
    "        use_context=True\n",
    "    )\n",
    "    \n",
    "    updater.dispatcher.add_handler(MessageHandler(filters = Filters.all, callback=message_handler))\n",
    "    \n",
    "    updater.start_polling()\n",
    "    updater.idle()\n"
   ]
  },
  {
   "cell_type": "code",
   "execution_count": 10,
   "metadata": {},
   "outputs": [
    {
     "name": "stdout",
     "output_type": "stream",
     "text": [
      "Start\n"
     ]
    },
    {
     "name": "stderr",
     "output_type": "stream",
     "text": [
      "No error handlers are registered, logging exception.\n",
      "Traceback (most recent call last):\n",
      "  File \"C:\\Users\\Ivan\\anaconda3\\lib\\site-packages\\telegram\\ext\\dispatcher.py\", line 432, in process_update\n",
      "    handler.handle_update(update, self, check, context)\n",
      "  File \"C:\\Users\\Ivan\\anaconda3\\lib\\site-packages\\telegram\\ext\\handler.py\", line 156, in handle_update\n",
      "    return self.callback(update, context)\n",
      "  File \"<ipython-input-9-7c908d05b2e7>\", line 38, in message_handler\n",
      "    update.message.reply_text(\n",
      "  File \"C:\\Users\\Ivan\\anaconda3\\lib\\site-packages\\telegram\\message.py\", line 603, in reply_text\n",
      "    return self.bot.send_message(self.chat_id, *args, **kwargs)\n",
      "  File \"<decorator-gen-119>\", line 2, in send_message\n",
      "  File \"C:\\Users\\Ivan\\anaconda3\\lib\\site-packages\\telegram\\bot.py\", line 135, in decorator\n",
      "    result = func(*args, **kwargs)\n",
      "  File \"C:\\Users\\Ivan\\anaconda3\\lib\\site-packages\\telegram\\bot.py\", line 458, in send_message\n",
      "    return self._message(  # type: ignore[return-value]\n",
      "  File \"C:\\Users\\Ivan\\anaconda3\\lib\\site-packages\\telegram\\bot.py\", line 271, in _message\n",
      "    data['reply_markup'] = reply_markup.to_json()\n",
      "  File \"C:\\Users\\Ivan\\anaconda3\\lib\\site-packages\\telegram\\base.py\", line 81, in to_json\n",
      "    return json.dumps(self.to_dict())\n",
      "TypeError: <function button_create_task at 0x000001F411A39EE0> is not JSON serializable\n"
     ]
    }
   ],
   "source": [
    "if __name__ == '__main__':\n",
    "    main()"
   ]
  },
  {
   "cell_type": "code",
   "execution_count": 10,
   "metadata": {},
   "outputs": [
    {
     "data": {
      "text/plain": [
       "'*'"
      ]
     },
     "execution_count": 10,
     "metadata": {},
     "output_type": "execute_result"
    }
   ],
   "source": [
    "t.name"
   ]
  },
  {
   "cell_type": "code",
   "execution_count": null,
   "metadata": {},
   "outputs": [],
   "source": []
  }
 ],
 "metadata": {
  "kernelspec": {
   "display_name": "Python 3",
   "language": "python",
   "name": "python3"
  },
  "language_info": {
   "codemirror_mode": {
    "name": "ipython",
    "version": 3
   },
   "file_extension": ".py",
   "mimetype": "text/x-python",
   "name": "python",
   "nbconvert_exporter": "python",
   "pygments_lexer": "ipython3",
   "version": "3.8.5"
  }
 },
 "nbformat": 4,
 "nbformat_minor": 4
}
