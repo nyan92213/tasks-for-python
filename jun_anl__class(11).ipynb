{
 "cells": [
  {
   "cell_type": "markdown",
   "metadata": {},
   "source": [
    "# Классы\n",
    "## Домашнее задание"
   ]
  },
  {
   "cell_type": "markdown",
   "metadata": {},
   "source": [
    "### Вопросы по лекциям\n",
    "\n",
    "#### 1.\n",
    "\n",
    "Напишите название функции, которая является конструктором класса."
   ]
  },
  {
   "cell_type": "markdown",
   "metadata": {},
   "source": [
    "**Ответ:** __init__()"
   ]
  },
  {
   "cell_type": "markdown",
   "metadata": {},
   "source": [
    "#### 2.\n",
    "\n",
    "На что указывает переменная `self`?"
   ]
  },
  {
   "cell_type": "markdown",
   "metadata": {},
   "source": [
    "**Ответ:** На свой объект метода (себя)"
   ]
  },
  {
   "cell_type": "markdown",
   "metadata": {},
   "source": [
    "#### 3.\n",
    "С помощью какой функции можно проверить, что некая строка является именем одного из атрибутов объекта?"
   ]
  },
  {
   "cell_type": "markdown",
   "metadata": {},
   "source": [
    "**Ответ:** hasattr()"
   ]
  },
  {
   "cell_type": "markdown",
   "metadata": {},
   "source": [
    "#### 4.\n",
    "Когда вызывается метод `__del__`? (относительно события удаления объекта)"
   ]
  },
  {
   "cell_type": "markdown",
   "metadata": {},
   "source": [
    "**Ответ:**  перед уничтожением объекта"
   ]
  },
  {
   "cell_type": "markdown",
   "metadata": {},
   "source": [
    "#### 5.\n",
    "Верно ли, что атрибут класса перекрывает атрибут объекта?"
   ]
  },
  {
   "cell_type": "markdown",
   "metadata": {},
   "source": [
    "**Ответ:** Нет"
   ]
  },
  {
   "cell_type": "markdown",
   "metadata": {},
   "source": [
    "#### 6.\n",
    "Можно ли атрибуты базового класса вызывать в дочернем классе? Если да, то напишите, нет ли исклчений?"
   ]
  },
  {
   "cell_type": "markdown",
   "metadata": {},
   "source": [
    "**Ответ:**Можно, если в дочернем нет переопределения"
   ]
  },
  {
   "cell_type": "markdown",
   "metadata": {},
   "source": [
    "#### 7.\n",
    "Объясните своими словами для чего нужен метод `super`."
   ]
  },
  {
   "cell_type": "markdown",
   "metadata": {},
   "source": [
    "**Ответ:** Нужен для того, чтоб использовать в дочернем классе методы родительского класса (к примеру если этот метод был переопределен в дочернем)"
   ]
  },
  {
   "cell_type": "markdown",
   "metadata": {},
   "source": [
    "### Практика\n",
    "\n",
    "1. Напишите класс `Fraction` для работы с дробями. Пусть дробь в нашем классе предстает в виде `числитель/знаменатель`. Дробное число должно создаваться по запросу `Fraction(a, b)`, где `a` – это числитель, а `b` – знаменатель дроби. \n",
    "2. Добавьте возможность сложения (сложения через оператор сложения) для дроби. Предполагается, что операция сложения может проводиться как только между дробями, так и между дробью и целым числом. Результат оперции должен быть представлен в виде дроби.\n",
    "3. Добавьте возможность взятия раздости (вычитания через оператор вычитания) для дробей. Предполагается, что операция вычитания может проводиться как только для двух дробей, так и для дроби и целого числа. Результат оперции должен быть представлен в виде дроби.\n",
    "4. Добавьте возможность умножения (умножения через оператор умножения) для дробей. Предполагается, что операция умножения может проводиться как только для двух дробей, так и для дроби и целого числа. Результат оперции должен быть представлен в виде дроби.\n",
    "5. Добавьте возможность приведения дроби к целому числу через стандартную функцию `int()`.\n",
    "6. Добавьте возможность приведения дроби к числу с плавающей точкой через стандартную функцию `float()`.\n",
    "7. Создайте дочерний класс `OperationsOnFraction` и добавьте туда собственные методы `getint` и `getfloat`, которые будут возвращять целую часть дроби и представление дроби в виде числа с плавающей точкой соответственно. \n",
    " "
   ]
  },
  {
   "cell_type": "code",
   "execution_count": 14,
   "metadata": {},
   "outputs": [],
   "source": [
    "class Fraction:\n",
    "\n",
    "    def __init__(self, a, b):\n",
    "        self.a = a\n",
    "        self.b = b\n",
    "\n",
    "    def __str__(self):\n",
    "        return '({} / {})'.format(self.a, self.b)\n",
    "\n",
    "    def __add__(self, other):\n",
    "        if isinstance(other, (int, float)):\n",
    "            other = Fraction(other, 1)\n",
    "        return Fraction(self.a * other.b + other.a * self.b, self.b * other.b).reduction()\n",
    "\n",
    "    def __sub__(self, other):\n",
    "        if isinstance(other, (int, float)):\n",
    "            other = Fraction(other, 1)\n",
    "        return Fraction(self.a * other.b - other.a * self.b, self.b * other.b).reduction()\n",
    "\n",
    "    def __mul__(self, other):\n",
    "        if isinstance(other, (int, float)):\n",
    "            other = Fraction(other, 1)\n",
    "        return Fraction(self.a * other.a, self.b * other.b).reduction()\n",
    "\n",
    "    def __int__(self):\n",
    "        return int(self.a / self.b)\n",
    "\n",
    "    def __float__(self):\n",
    "        return self.a / self.b\n",
    "\n",
    "    def reduction(self):\n",
    "        for i in range(1, min(self.a, self.b) + 1):\n",
    "            if self.a % i == 0 and self.b % i == 0:\n",
    "                self.a = int(self.a / i)\n",
    "                self.b = int(self.b / i)\n",
    "        return Fraction(self.a, self.b)\n",
    "\n",
    "\n",
    "class OperationsOnFraction(Fraction):\n",
    "\n",
    "    def getint(self):\n",
    "        return int(self.a / self.b)\n",
    "\n",
    "    def getfloat(self):\n",
    "        return self.a / self.b\n",
    "\n",
    "    def reduction(self):\n",
    "        for i in range(1, min(self.a, self.b) + 1):\n",
    "            if self.a % i == 0 and self.b % i == 0:\n",
    "                self.a = int(self.a / i)\n",
    "                self.b = int(self.b / i)\n",
    "        return Fraction(self.a, self.b)\n",
    "\n",
    "    def draw(self):\n",
    "        return print(self.a, '/', self.b)\n",
    "\n",
    "\n",
    "# first_fraction = Fraction(1, 2)\n",
    "# second_fraction = Fraction(2, 3)\n",
    "\n",
    "# new_fraction = first_fraction + 2\n",
    "# print(str(new_fraction))\n",
    "# print(first_fraction + second_fraction)\n",
    "# print(first_fraction - second_fraction)\n",
    "# print(first_fraction * second_fraction)\n",
    "# print(int(Fraction(1, 2)))\n",
    "# print(float(Fraction(1, 2)))\n",
    "# print(OperationsOnFraction(1, 2).getint())\n",
    "# print(OperationsOnFraction(1, 2).getfloat())\n",
    "# print(OperationsOnFraction(3, 9).reduction())\n",
    "# OperationsOnFraction(3, 9).draw()"
   ]
  }
 ],
 "metadata": {
  "kernelspec": {
   "display_name": "Python 3",
   "language": "python",
   "name": "python3"
  },
  "language_info": {
   "codemirror_mode": {
    "name": "ipython",
    "version": 3
   },
   "file_extension": ".py",
   "mimetype": "text/x-python",
   "name": "python",
   "nbconvert_exporter": "python",
   "pygments_lexer": "ipython3",
   "version": "3.7.3"
  }
 },
 "nbformat": 4,
 "nbformat_minor": 2
}
