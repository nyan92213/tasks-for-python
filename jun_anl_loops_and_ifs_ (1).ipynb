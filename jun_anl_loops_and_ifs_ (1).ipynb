{
 "cells": [
  {
   "cell_type": "markdown",
   "metadata": {
    "colab_type": "text",
    "id": "X9wfb-pqPzYu"
   },
   "source": [
    "# Циклы и условия\n",
    "\n",
    "## Домашняя работа\n",
    "Эта домашняя работа должна быть решена **БЕЗ** использования готовых функций (если именно они \"решают\" задачу) и сторонних библиотек. Используйте циклы и условия."
   ]
  },
  {
   "cell_type": "markdown",
   "metadata": {
    "colab_type": "text",
    "id": "DMpu8uUoPzY0"
   },
   "source": [
    "## 1\n",
    "\n",
    "Напишите программу, которая будет запрашивать на вход числа (через запятую на одной строке) и выводить наибольшее значение из списка.\n",
    "<br><br>\n",
    "*Ограничение: нельзя пользоваться готовой функцией для нахождения максимума (например, `max()`), готовыми функциями и методами сортировки (например, `sort()`,`sorted()`).*"
   ]
  },
  {
   "cell_type": "code",
   "execution_count": 6,
   "metadata": {
    "colab": {},
    "colab_type": "code",
    "id": "dHs34-p-PzY3"
   },
   "outputs": [
    {
     "name": "stdout",
     "output_type": "stream",
     "text": [
      "Введите числа через запятую: 1, 2, 3, 4, 5,6,7\n",
      "Максимальное число: 7\n"
     ]
    }
   ],
   "source": [
    "numbers = input('Введите числа через запятую: ').split(sep=',')\n",
    "numbers = list(map(int, numbers))\n",
    "max_value = numbers[0]\n",
    "\n",
    "for number in numbers:\n",
    "    if number > max_value:\n",
    "        max_value = number\n",
    "\n",
    "print('Максимальное число:', max_value)"
   ]
  },
  {
   "cell_type": "markdown",
   "metadata": {
    "colab_type": "text",
    "id": "sCF9Hd9rPzZD"
   },
   "source": [
    "### 2\n",
    "\n",
    "Напишите программу, которая будет запрашивать на вход числа (каждое с новой строки) до тех пор, пока не будет введен ноль (0). На выход должно выводиться второе по величине значение.\n",
    "<br><br>\n",
    "*Ограничение: нельзя пользоваться готовой функцией для нахождения максимума (например, `max()`), готовыми функциями и методами сортировки (например, `sort()`,`sorted()`).*"
   ]
  },
  {
   "cell_type": "code",
   "execution_count": 33,
   "metadata": {
    "colab": {},
    "colab_type": "code",
    "id": "yrJk-mEjPzZF"
   },
   "outputs": [
    {
     "name": "stdout",
     "output_type": "stream",
     "text": [
      "Введите число: 1\n",
      "Введите число: 2\n",
      "Введите число: 3\n",
      "Введите число: 0\n",
      "Второе по величине число: 2\n"
     ]
    }
   ],
   "source": [
    "number = int(input('Введите число: '))\n",
    "numbers_list = list()\n",
    "numbers_list.append(number)\n",
    "max_value = number\n",
    "\n",
    "while number != 0:\n",
    "    number = int(input('Введите число: '))\n",
    "    if number in numbers_list:\n",
    "        continue\n",
    "    numbers_list.append(number)\n",
    "    \n",
    "for number in numbers_list:\n",
    "    if number > max_value:\n",
    "        max_value = number\n",
    "\n",
    "for number in numbers_list:\n",
    "    if number == max_value:\n",
    "        numbers_list.remove(number)\n",
    "\n",
    "max_value = numbers_list[0]\n",
    "\n",
    "for number in numbers_list:\n",
    "    if number > max_value:\n",
    "        max_value = number\n",
    "        \n",
    "print('Второе по величине число:', max_value)"
   ]
  },
  {
   "cell_type": "markdown",
   "metadata": {
    "colab_type": "text",
    "id": "fdJZMUtGPzZN"
   },
   "source": [
    "## 3\n",
    "\n",
    "Напишите программу, которая принимает на вход год, а на выход выдает количество дней в этом году."
   ]
  },
  {
   "cell_type": "code",
   "execution_count": 34,
   "metadata": {
    "colab": {},
    "colab_type": "code",
    "id": "Dk6PDx-jPzZP"
   },
   "outputs": [
    {
     "name": "stdout",
     "output_type": "stream",
     "text": [
      "Введите год: 410\n",
      "В этом году 365 дней\n"
     ]
    }
   ],
   "source": [
    "year = int(input('Введите год: '))\n",
    "\n",
    "if year % 400 == 0:\n",
    "    print('В этом году 366 дней')\n",
    "    \n",
    "elif year % 4 == 0 and year % 100 != 0:\n",
    "    print('В этом году 366 дней')\n",
    "    \n",
    "else:\n",
    "    print('В этом году 365 дней')"
   ]
  },
  {
   "cell_type": "markdown",
   "metadata": {
    "colab_type": "text",
    "id": "wFGBh0dYPzZV"
   },
   "source": [
    "### 4\n",
    "\n",
    "Напишите программу, которая на вход получает координаты двух клеток шахматной доски и выводит соощение о том, являются ли эти клетки одного цвета."
   ]
  },
  {
   "cell_type": "code",
   "execution_count": 2,
   "metadata": {
    "colab": {},
    "colab_type": "code",
    "id": "k-8POcqGPzZW"
   },
   "outputs": [
    {
     "name": "stdout",
     "output_type": "stream",
     "text": [
      "2 4\n",
      "3 5\n",
      "Эти клетки одного цвета\n"
     ]
    }
   ],
   "source": [
    "first_cage_horizontal, first_cage_vertical = map(int, input().split())\n",
    "second_cage_horizontal, second_cage_vertical = map(int, input().split())\n",
    "\n",
    "if (first_cage_horizontal + first_cage_vertical) % 2 == (second_cage_horizontal + second_cage_vertical) % 2:\n",
    "    print('Эти клетки одного цвета')\n",
    "else:\n",
    "    print('Эти клетки разного цвета')"
   ]
  },
  {
   "cell_type": "markdown",
   "metadata": {
    "colab_type": "text",
    "id": "O594rz0tPzZb"
   },
   "source": [
    "### 5\n",
    "\n",
    "Напишите программу, которая на вход получает число, а на выходе сообщает, простое это число или составное."
   ]
  },
  {
   "cell_type": "code",
   "execution_count": 7,
   "metadata": {
    "colab": {},
    "colab_type": "code",
    "id": "-Oy1AesyPzZd"
   },
   "outputs": [
    {
     "name": "stdout",
     "output_type": "stream",
     "text": [
      "Введите число: 41\n",
      "Число простое\n"
     ]
    }
   ],
   "source": [
    "number = int(input('Введите число: '))\n",
    "deviders_list = list()\n",
    "\n",
    "if number == 2:\n",
    "    print('Число простое')\n",
    "else:\n",
    "    for j in range(2, number + 1):\n",
    "        deviders_list.append(i)\n",
    "\n",
    "    for i in deviders_list:\n",
    "        if number % i == 0:\n",
    "            output = 'Число составное'\n",
    "            break\n",
    "        else:\n",
    "            output = 'Число простое'\n",
    "    print(output)"
   ]
  },
  {
   "cell_type": "markdown",
   "metadata": {
    "colab_type": "text",
    "id": "QzBAQaW8PzZg"
   },
   "source": [
    "### 6\n",
    "\n",
    "Напишите программу, которая на вход получает целое число больше 2 и выводит по нему его наименьший натуральный делитель, отличный от 1."
   ]
  },
  {
   "cell_type": "code",
   "execution_count": 37,
   "metadata": {
    "colab": {},
    "colab_type": "code",
    "id": "Z2QzgAYKPzZi"
   },
   "outputs": [
    {
     "name": "stdout",
     "output_type": "stream",
     "text": [
      "Введите число: 14\n",
      "Наименьший натуральный делитель числа 14 это 2\n"
     ]
    }
   ],
   "source": [
    "number = int(input('Введите число: '))\n",
    "devider = 1\n",
    "deviders_list = list()\n",
    "\n",
    "while devider < number:\n",
    "    devider += 1\n",
    "    deviders_list.append(devider)\n",
    "    \n",
    "    for i in deviders_list:\n",
    "        if number % i == 0:\n",
    "            output = i\n",
    "            break\n",
    "\n",
    "print('Наименьший натуральный делитель числа', number, 'это', output)"
   ]
  },
  {
   "cell_type": "markdown",
   "metadata": {
    "colab_type": "text",
    "id": "Mdg_IAfFPzZk"
   },
   "source": [
    "### 7\n",
    "\n",
    "Напишите программу, которая поможет составить план тренировок для подготовки к марафону. Она получает на вход число километров на планируемом марафоне, сколько пользователь планирует пробежать в первый день тренировок и на сколько процентов планирует увеличивать каждый день это расстояние. На выходе программа должна выдавать, сколько дней пользователю потребуется для того, чтобы подготовиться пробежать целевое количество километров.\n",
    "<br><br>\n",
    "*Ограничение: нельзя пользоваться функцией `ceil()` из модуля `math` и ее аналогами.*"
   ]
  },
  {
   "cell_type": "code",
   "execution_count": 2,
   "metadata": {
    "colab": {},
    "colab_type": "code",
    "id": "mXeF6AMWPzZl"
   },
   "outputs": [
    {
     "name": "stdout",
     "output_type": "stream",
     "text": [
      "Введите дистанцию марафона в километрах: 12\n",
      "Ввидите результат первого забега в киллометрах: 2\n",
      "Введите количество процентов, на которое будет увеличиваться результат: 98\n",
      "Количество дней, необходимое для того, чтоб пробежать целевое количество километров  7\n"
     ]
    }
   ],
   "source": [
    "marathon_distance = int(input('Введите дистанцию марафона в километрах: '))\n",
    "first_run = int(input('Ввидите результат первого забега в киллометрах: '))\n",
    "percents = int(input('Введите количество процентов, на которое будет увеличиваться результат: '))\n",
    "days = 0\n",
    "one_run = first_run\n",
    "final_percents = percents\n",
    "\n",
    "while marathon_distance > one_run:\n",
    "    one_run = first_run * final_percents / 100\n",
    "    final_percents += percents\n",
    "    days += 1\n",
    "    \n",
    "print('Количество дней, необходимое для того, чтоб пробежать целевое количество километров ', days)"
   ]
  },
  {
   "cell_type": "markdown",
   "metadata": {
    "colab_type": "text",
    "id": "sxKoWpYKPzZo"
   },
   "source": [
    "### 8\n",
    "\n",
    "Напишите программу, которая на вход получает число n и считает по нему сумму 1²+2²+3²+...+n².\n",
    "<br><br>\n",
    "*Ограничение: нельзя пользоваться функцией `sum()` и ее аналогами.*"
   ]
  },
  {
   "cell_type": "code",
   "execution_count": 1,
   "metadata": {
    "colab": {},
    "colab_type": "code",
    "id": "RiPlWLm6PzZp"
   },
   "outputs": [
    {
     "name": "stdout",
     "output_type": "stream",
     "text": [
      "Введите число: 3\n",
      "Искомая сумма равна: 14\n"
     ]
    }
   ],
   "source": [
    "n = int(input('Введите число: '))\n",
    "summ_of_squares = 0\n",
    "    \n",
    "for i in range(1, n+1):\n",
    "    summ_of_squares += i ** 2\n",
    "    \n",
    "print('Искомая сумма равна:', summ_of_squares)"
   ]
  },
  {
   "cell_type": "markdown",
   "metadata": {
    "colab_type": "text",
    "id": "aXzG4-wdPzZr"
   },
   "source": [
    "## 9\n",
    "\n",
    "Напишите программу, которая на вход получает число n и считает по нему сумму сумму 1! + 2! + 3! + ... + n!\n",
    "<br><br>\n",
    "*Ограничение: нельзя пользоваться готовой функцией `factorial()` из модуля `math`, функцией `sum()` и их аналогами.*"
   ]
  },
  {
   "cell_type": "code",
   "execution_count": 4,
   "metadata": {
    "colab": {},
    "colab_type": "code",
    "id": "KBEXUEDQPzZs"
   },
   "outputs": [
    {
     "name": "stdout",
     "output_type": "stream",
     "text": [
      "Введите число: 7\n",
      "Искомая сумма равна: 5913\n"
     ]
    }
   ],
   "source": [
    "n = int(input('Введите число: '))\n",
    "factorial = 1\n",
    "summ_of_factorials = 0\n",
    "    \n",
    "for i in range(1, n+1):\n",
    "    factorial = factorial * i\n",
    "    summ_of_factorials += factorial\n",
    "    \n",
    "print('Искомая сумма равна:', summ_of_factorials)"
   ]
  },
  {
   "cell_type": "markdown",
   "metadata": {
    "colab_type": "text",
    "id": "4nsOuiWVPzZu"
   },
   "source": [
    "### 10\n",
    "\n",
    "Напишите программу, которая получает на вход последовательность чисел (каждое число с новой строки до того момента, пока пользователь не введет 0) и считает количество четных элементов в последовательности."
   ]
  },
  {
   "cell_type": "code",
   "execution_count": 0,
   "metadata": {
    "colab": {},
    "colab_type": "code",
    "id": "xktF2cocPzZv"
   },
   "outputs": [],
   "source": [
    "number = int(input('Введите число: '))\n",
    "parity = 0\n",
    "\n",
    "if number % 2 == 0:\n",
    "    parity += 1\n",
    "\n",
    "while number != 0:\n",
    "    number = int(input('Введите число: '))\n",
    "    \n",
    "    if number % 2 == 0:\n",
    "        parity += 1\n",
    "    \n",
    "print('Второе по величине число:', parity)"
   ]
  },
  {
   "cell_type": "markdown",
   "metadata": {
    "colab_type": "text",
    "id": "hyC9QGXPPzZx"
   },
   "source": [
    "### 11\n",
    "\n",
    "Напишите программу, которая формирует список игроков женской команды по футболу. Программа должна записывать возраст и пол претендента. Возраст должен запрашиваться после пола и только в том случае, если пол претендента женский. Если пол претендента мужской, программа должна сообщать о том, что он не подходит. Возраст претенденток должен быть от 18 до 35 лет. Если кандидат удовлетворяет требованиям, должно появляться соответствующее сообщение."
   ]
  },
  {
   "cell_type": "code",
   "execution_count": 10,
   "metadata": {
    "colab": {},
    "colab_type": "code",
    "id": "qSDK-zQ4PzZx"
   },
   "outputs": [
    {
     "name": "stdout",
     "output_type": "stream",
     "text": [
      "Введите пол: Женский\n",
      "Введите ваш возраст: 18\n",
      "Вы подходите!\n"
     ]
    }
   ],
   "source": [
    "sex = input('Введите пол: ')\n",
    "\n",
    "if sex.lower() == 'женский':\n",
    "    age = int(input('Введите ваш возраст: '))\n",
    "    \n",
    "    if 18 <= age <= 35:\n",
    "        print('Вы подходите!')\n",
    "    else:\n",
    "        print('Вы не подходите по возрасту!')\n",
    "        \n",
    "else:\n",
    "    print('В женскую лигу можно только представительницам женского пола')"
   ]
  },
  {
   "cell_type": "markdown",
   "metadata": {
    "colab_type": "text",
    "id": "B4JAB8AqPzZ0"
   },
   "source": [
    "### 12\n",
    "\n",
    "\n",
    "Напишите программу, которая на вход получает максимальную ширину ромба и рисует его. Гарантируется, что входное число всегда нечетное.\n",
    " \n",
    "Пример вывода для числа 5:\n",
    "```  \n",
    "  *\n",
    " ***\n",
    "*****\n",
    " ***\n",
    "  *```"
   ]
  },
  {
   "cell_type": "code",
   "execution_count": 41,
   "metadata": {
    "colab": {},
    "colab_type": "code",
    "id": "WVp7O75oPzZ0"
   },
   "outputs": [
    {
     "name": "stdout",
     "output_type": "stream",
     "text": [
      "Введите ширину ромба: 5\n",
      "   *   \n",
      "  ***  \n",
      " ***** \n",
      "  ***  \n",
      "   *   \n"
     ]
    }
   ],
   "source": [
    "rhombus_width = int(input('Введите ширину ромба: '))\n",
    "check = rhombus_width\n",
    "stars = 1\n",
    "\n",
    "while rhombus_width > 0:\n",
    "    print(rhombus_width // 2 * ' ', stars * '*', rhombus_width // 2 * ' ')\n",
    "    stars += 2\n",
    "    rhombus_width += (-2)\n",
    "    \n",
    "stars += (-2)\n",
    "rhombus_width += 2\n",
    "\n",
    "while rhombus_width < check:\n",
    "    stars += (-2)\n",
    "    rhombus_width += 2\n",
    "    print(rhombus_width // 2 * ' ', stars * '*', rhombus_width // 2 * ' ')"
   ]
  },
  {
   "cell_type": "markdown",
   "metadata": {
    "colab_type": "text",
    "id": "xrIXWj0yPzZ2"
   },
   "source": [
    "### 13\n",
    "\n",
    "Напишите программу, которая запрашивает у пользователя сторону квадрата и символ, а затем рисует этот символ по диагоналям квадрата. Гарантируется, что входное число всегда нечетное.\n",
    " \n",
    "Пример вывода для числа 5:\n",
    "```\n",
    " \n",
    "#   #\n",
    " # #\n",
    "  #  \n",
    " # #\n",
    "#   #\n",
    "```"
   ]
  },
  {
   "cell_type": "code",
   "execution_count": 3,
   "metadata": {
    "colab": {},
    "colab_type": "code",
    "id": "oUKNB9TaPzZ3",
    "outputId": "47421e19-6d45-4cef-9df8-0d89200499ca"
   },
   "outputs": [
    {
     "name": "stdout",
     "output_type": "stream",
     "text": [
      "Введите сторону квадрата: 5\n",
      "Введите символ: #\n",
      "#   #\n",
      " # #\n",
      "  #\n",
      " # #\n",
      "#   #\n"
     ]
    }
   ],
   "source": [
    "width = int(input('Введите сторону квадрата: ')) - 2\n",
    "symbol = input('Введите символ: ')\n",
    "check_width = width\n",
    "\n",
    "while width > 0:\n",
    "    print((check_width - width) // 2 * ' ', symbol, width * ' ', symbol, sep='')\n",
    "    width += (-2)\n",
    "    \n",
    "print((check_width // 2 + 1) * ' ', symbol, sep='')\n",
    "\n",
    "while check_width > 0:\n",
    "    width += 2\n",
    "    print(check_width // 2 * ' ', symbol, width * ' ', symbol, sep='')\n",
    "    check_width += (-2)"
   ]
  },
  {
   "cell_type": "markdown",
   "metadata": {
    "colab_type": "text",
    "id": "3GaiPsFYPzZ_"
   },
   "source": [
    "### 14\n",
    "\n",
    "В корзине лежат шары. Если разложить их в кучи по 2, останется один. Если разложить в кучи по 3, останется один. Если разложить в кучи по 4, останется один. Если разложить в кучи по 5, останется один. Если разложить в кучи по 6, останется один. Если разложить в кучи по 7, не будет остатка. Нужно найти минимальное количество шаров, удовлетворяющее условию.  <br>"
   ]
  },
  {
   "cell_type": "code",
   "execution_count": 37,
   "metadata": {
    "colab": {
     "base_uri": "https://localhost:8080/",
     "height": 32
    },
    "colab_type": "code",
    "executionInfo": {
     "elapsed": 1380,
     "status": "ok",
     "timestamp": 1571844968537,
     "user": {
      "displayName": "Анастасия Рогачевская",
      "photoUrl": "https://lh3.googleusercontent.com/a-/AAuE7mB92snW1RMZTGvFBrPMpd_BzLIeP2XnbSZ3ZNVFUQ=s64",
      "userId": "07714489023974728369"
     },
     "user_tz": -180
    },
    "id": "V2msEhQkPzZ_",
    "outputId": "c36c996d-347b-430f-f53e-65e37eb23108"
   },
   "outputs": [
    {
     "name": "stdout",
     "output_type": "stream",
     "text": [
      "301\n"
     ]
    }
   ],
   "source": [
    "number = 0\n",
    "while number % 4 != 1 or number % 5 != 1 or number % 6 != 1 or number % 7 != 0:\n",
    "    number += 1\n",
    "print(number)"
   ]
  },
  {
   "cell_type": "markdown",
   "metadata": {
    "colab_type": "text",
    "id": "5pOjlON-PzaC"
   },
   "source": [
    "### 15\n",
    "\n",
    "Рабочие клеили обои на стены. Первую стену поклеили за M минут, а каждую следующую на 5 минут больше, чем предыдущую.\n",
    "Напишите программу, которая запрашивает сколько стен было в квартире под поклейку, а также время работы с первой стеной. Программа должна выводить, сколько **часов** рабочие потратили на поклейку обоев во всей квартире. Ответом должно быть целое число.\n",
    "<br><br>\n",
    "*Ограничение: нельзя пользоваться готовыми функциями `bool()`, `floor()` и их аналогами.*"
   ]
  },
  {
   "cell_type": "code",
   "execution_count": 33,
   "metadata": {
    "colab": {},
    "colab_type": "code",
    "id": "Pmu96rWGPzaD"
   },
   "outputs": [
    {
     "name": "stdout",
     "output_type": "stream",
     "text": [
      "Введите количество стен в квартире: 8\n",
      "Введите время покраски стены: 5\n",
      "3\n"
     ]
    }
   ],
   "source": [
    "walls = int(input('Введите количество стен в квартире: '))\n",
    "time = int(input('Введите время покраски стены: '))\n",
    "one_wall_time = time\n",
    "\n",
    "while walls > 1:\n",
    "    walls += (-1)\n",
    "    one_wall_time += 5\n",
    "    time += one_wall_time\n",
    "\n",
    "if time % 60 == 0:\n",
    "    print(time // 60)\n",
    "else:\n",
    "    print(time // 60 + 1)"
   ]
  },
  {
   "cell_type": "markdown",
   "metadata": {
    "colab_type": "text",
    "id": "63C6Za3CPzaF"
   },
   "source": [
    "### 16\n",
    "\n",
    "Напишите программу, которая убирает из списка повторяющиеся элементы. Программа должна запрашивать на вход слова, каждое с новой строки, пока пользователь не введет пустую строку. Затем должна выводить список без повторяющихся элементов. \n",
    "<br><br>\n",
    "*Ограничение: нельзя пользоваться готовой функцией `set()` и ее аналогами.*"
   ]
  },
  {
   "cell_type": "code",
   "execution_count": 7,
   "metadata": {
    "colab": {},
    "colab_type": "code",
    "id": "MQ-eDkbAPzaG"
   },
   "outputs": [
    {
     "name": "stdout",
     "output_type": "stream",
     "text": [
      "Введите слово: привет\n",
      "Введите слово: привет\n",
      "Введите слово: как дела\n",
      "Введите слово: как\n",
      "Введите слово: дела\n",
      "Введите слово: \n",
      "['привет', 'как дела', 'как', 'дела', '']\n"
     ]
    }
   ],
   "source": [
    "word = input('Введите слово: ')\n",
    "words_list = list()\n",
    "words_list.append(word)\n",
    "\n",
    "while word != '':\n",
    "    word = input('Введите слово: ')\n",
    "    if word in words_list:\n",
    "        continue\n",
    "    words_list.append(word)\n",
    "\n",
    "print(words_list)"
   ]
  },
  {
   "cell_type": "markdown",
   "metadata": {
    "colab_type": "text",
    "id": "jueSDORaPzaI"
   },
   "source": [
    "### 17\n",
    "\n",
    "Напишите программу, которая выводит число пар одинаковых элементов в списке. Программа должна запрашивать на вход слова, каждое с новой строки, пока пользователь не введет пустую строку. "
   ]
  },
  {
   "cell_type": "code",
   "execution_count": 40,
   "metadata": {
    "colab": {},
    "colab_type": "code",
    "id": "49tbEr3NPzaJ"
   },
   "outputs": [
    {
     "name": "stdout",
     "output_type": "stream",
     "text": [
      "Введите элемент списка: 1\n",
      "Введите элемент списка: 1\n",
      "Введите элемент списка: 1\n",
      "Введите элемент списка: 1\n",
      "Введите элемент списка: 2\n",
      "Введите элемент списка: 2\n",
      "Введите элемент списка: \n",
      "Количество пар в списке равно  7\n"
     ]
    }
   ],
   "source": [
    "element = input('Введите элемент списка: ')\n",
    "elements_list = list()\n",
    "elements_list.append(element)\n",
    "pairs = 0\n",
    "\n",
    "while element != '':\n",
    "    element = input('Введите элемент списка: ')\n",
    "    elements_list.append(element)\n",
    "\n",
    "for i in range(len(elements_list)):\n",
    "    for j in range(i + 1, len(elements_list)):\n",
    "        if elements_list[i] == elements_list[j]:\n",
    "            pairs += 1\n",
    "        \n",
    "print('Количество пар в списке равно ', pairs)"
   ]
  },
  {
   "cell_type": "markdown",
   "metadata": {
    "colab_type": "text",
    "id": "yVLcBrD-PzaN"
   },
   "source": [
    "### 18\n",
    "\n",
    "Будем считать, что кубик может иметь неограниченное количество граней (натуральное число). Напишите программу, которая запрашивает, сколько граней имеется у двух разных кубиков. Затем выводит все возможные комбинации результатов бросков двух таких кубиков. "
   ]
  },
  {
   "cell_type": "code",
   "execution_count": 5,
   "metadata": {
    "colab": {},
    "colab_type": "code",
    "id": "7I2va0KwPzaR"
   },
   "outputs": [
    {
     "name": "stdout",
     "output_type": "stream",
     "text": [
      "Введите количество граней первого кубика: 3\n",
      "Введите количество граней второго кубика: 4\n",
      "1 1\n",
      "1 2\n",
      "1 3\n",
      "1 4\n",
      "2 1\n",
      "2 2\n",
      "2 3\n",
      "2 4\n",
      "3 1\n",
      "3 2\n",
      "3 3\n",
      "3 4\n"
     ]
    }
   ],
   "source": [
    "first_dice = int(input('Введите количество граней первого кубика: '))\n",
    "second_dice = int(input('Введите количество граней второго кубика: '))\n",
    "\n",
    "for i in range(1, first_dice + 1):\n",
    "    for j in range(1, second_dice + 1):\n",
    "        print(i, j)"
   ]
  },
  {
   "cell_type": "code",
   "execution_count": null,
   "metadata": {},
   "outputs": [],
   "source": []
  }
 ],
 "metadata": {
  "colab": {
   "name": "jun_anl_loops_and_ifs_СКРИПТ.ipynb",
   "provenance": []
  },
  "kernelspec": {
   "display_name": "Python 3",
   "language": "python",
   "name": "python3"
  },
  "language_info": {
   "codemirror_mode": {
    "name": "ipython",
    "version": 3
   },
   "file_extension": ".py",
   "mimetype": "text/x-python",
   "name": "python",
   "nbconvert_exporter": "python",
   "pygments_lexer": "ipython3",
   "version": "3.7.3"
  }
 },
 "nbformat": 4,
 "nbformat_minor": 1
}
