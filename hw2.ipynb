{
 "cells": [
  {
   "cell_type": "markdown",
   "metadata": {
    "colab_type": "text",
    "id": "7lPyzNzeLIOj"
   },
   "source": [
    "# Базовые структуры данных\n",
    "\n",
    "\n",
    "\n",
    "## Домашнее задание \n",
    "\n",
    "### Описание домашнего задания и формат сдачи\n",
    "\n",
    "В домашнем задании необходимо решить предложенные задачи по программированию – вписать свой код в ячейки после условий задач вместо комментария `### YOUR CODE HERE ###` в файле *jun_anl_data_structures.ipynb* и сохранить изменения, используя опцию *Save and Checkpoint* из вкладки меню *File* или кнопку *Save and Checkpoint* на панели инструментов. Итоговый файл в формате `.ipynb` (файл Jupyter Notebook) необходимо загрузить в личный кабинет обучающей онлайн платформы Skillbox (https://go.skillbox.ru/) и отправить на проверку."
   ]
  },
  {
   "cell_type": "markdown",
   "metadata": {
    "colab_type": "text",
    "id": "awb1K2hlLIOl"
   },
   "source": [
    "**NB!** Во всех заданиях обязательно наличие выдачи."
   ]
  },
  {
   "cell_type": "markdown",
   "metadata": {
    "colab_type": "text",
    "id": "3ndIOSVeLIOm"
   },
   "source": [
    "## Индексация списка"
   ]
  },
  {
   "cell_type": "code",
   "execution_count": 2,
   "metadata": {
    "colab": {},
    "colab_type": "code",
    "id": "XSWqZnZ2LIOo"
   },
   "outputs": [],
   "source": [
    "L = [[[1, 2, 3, 4, 5, 6, 7, 8, 9, 10], [11, 12, 13, 14, 15, 16, 17, 18, 19, 20]], \n",
    "    [[21, 22, 23, 24, 25, 26, 27, 28, 29, 30], [31, 32, 33, 34, 35, 36, 37, 38, 39, 40]], \n",
    "    [[41, 42, 43, 44, 45], [46, [47, 48], 49, 50], [51, 52, 53, 54, 55], [56, 57, 58, 59, 60]], \n",
    "    [61, 62, 63, [64, 65, 66, 67, 68, 69, 70, 71], 72, 73, 74, [75, [76, 77, 78], 79], 80], \n",
    "    [81, 82, 83, 84, 85, 86, 87, 88, 89, 90, 91, 92, 93, 94, 95, 96, 97, 98, 99, 100]]"
   ]
  },
  {
   "cell_type": "markdown",
   "metadata": {
    "colab_type": "text",
    "id": "jwigC9WlLIOt"
   },
   "source": [
    "### 1.\n",
    "Из приведенного выше списка списков выведите с помощью индексов число `7`."
   ]
  },
  {
   "cell_type": "code",
   "execution_count": 36,
   "metadata": {
    "colab": {},
    "colab_type": "code",
    "id": "PDaSjPzRLIOu"
   },
   "outputs": [
    {
     "data": {
      "text/plain": [
       "7"
      ]
     },
     "execution_count": 36,
     "metadata": {},
     "output_type": "execute_result"
    }
   ],
   "source": [
    "L[0][0][6]"
   ]
  },
  {
   "cell_type": "markdown",
   "metadata": {
    "colab_type": "text",
    "id": "TF6eb9fYLIOw"
   },
   "source": [
    "### 2.\n",
    "Из приведенного выше списка списков выведите с помощью индексов число `49`."
   ]
  },
  {
   "cell_type": "code",
   "execution_count": 38,
   "metadata": {
    "colab": {},
    "colab_type": "code",
    "id": "l_oW37-qLIOx"
   },
   "outputs": [
    {
     "data": {
      "text/plain": [
       "49"
      ]
     },
     "execution_count": 38,
     "metadata": {},
     "output_type": "execute_result"
    }
   ],
   "source": [
    "L[2][1][2]\n"
   ]
  },
  {
   "cell_type": "markdown",
   "metadata": {
    "colab_type": "text",
    "id": "FBDB0JeBLIO1"
   },
   "source": [
    "### 3.\n",
    "Из приведенного выше списка списков выведите с помощью индексов число `78`."
   ]
  },
  {
   "cell_type": "code",
   "execution_count": 40,
   "metadata": {
    "colab": {},
    "colab_type": "code",
    "id": "tpM-jm4bLIO2"
   },
   "outputs": [
    {
     "data": {
      "text/plain": [
       "78"
      ]
     },
     "execution_count": 40,
     "metadata": {},
     "output_type": "execute_result"
    }
   ],
   "source": [
    "L[-2][-2][-2][-1]\n"
   ]
  },
  {
   "cell_type": "markdown",
   "metadata": {
    "colab_type": "text",
    "id": "gnaTfR3BLIO5"
   },
   "source": [
    "### 4.\n",
    "Из приведенного выше списка списков выведите с помощью индексов (используя **отрицательные значения**) число `99`."
   ]
  },
  {
   "cell_type": "code",
   "execution_count": 41,
   "metadata": {
    "colab": {},
    "colab_type": "code",
    "id": "sA0ImW8oLIO6"
   },
   "outputs": [
    {
     "data": {
      "text/plain": [
       "99"
      ]
     },
     "execution_count": 41,
     "metadata": {},
     "output_type": "execute_result"
    }
   ],
   "source": [
    "L[-1][-2]\n"
   ]
  },
  {
   "cell_type": "markdown",
   "metadata": {
    "colab_type": "text",
    "id": "07mV6-oeLIO-"
   },
   "source": [
    "### 5.\n",
    "Из приведенного выше списка списков сделайте **срез** с числом `74`. "
   ]
  },
  {
   "cell_type": "code",
   "execution_count": 78,
   "metadata": {
    "colab": {},
    "colab_type": "code",
    "id": "OM-zgJ15LIO-"
   },
   "outputs": [
    {
     "data": {
      "text/plain": [
       "[74]"
      ]
     },
     "execution_count": 78,
     "metadata": {},
     "output_type": "execute_result"
    }
   ],
   "source": [
    "L[3:4][0][-3:-2]\n",
    "\n"
   ]
  },
  {
   "cell_type": "markdown",
   "metadata": {
    "colab_type": "text",
    "id": "TE82rH0CLIPB"
   },
   "source": [
    "### 6.\n",
    "Из приведенного выше списка списков сделайте **срез** с числами `47, 48`. "
   ]
  },
  {
   "cell_type": "code",
   "execution_count": 83,
   "metadata": {
    "colab": {},
    "colab_type": "code",
    "id": "MKpqyOINLIPD"
   },
   "outputs": [
    {
     "data": {
      "text/plain": [
       "[47, 48]"
      ]
     },
     "execution_count": 83,
     "metadata": {},
     "output_type": "execute_result"
    }
   ],
   "source": [
    "L[2:3][0][1:2][0][1:2][0][::1]"
   ]
  },
  {
   "cell_type": "markdown",
   "metadata": {
    "colab_type": "text",
    "id": "t6Fgb0AkLIPK"
   },
   "source": [
    "### 7.\n",
    "Из приведенного выше списка списков сделайте **срез** с числами `77, 78`. "
   ]
  },
  {
   "cell_type": "code",
   "execution_count": 84,
   "metadata": {
    "colab": {},
    "colab_type": "code",
    "id": "l1pGFe7uLIPM"
   },
   "outputs": [
    {
     "data": {
      "text/plain": [
       "[77, 78]"
      ]
     },
     "execution_count": 84,
     "metadata": {},
     "output_type": "execute_result"
    }
   ],
   "source": [
    "L[3:4][0][-2:-1][0][-2:-1][0][1:]"
   ]
  },
  {
   "cell_type": "markdown",
   "metadata": {
    "colab_type": "text",
    "id": "RwOlYKGhLIPR"
   },
   "source": [
    "## Функция range()"
   ]
  },
  {
   "cell_type": "markdown",
   "metadata": {
    "colab_type": "text",
    "id": "s2K0_TThLIPR"
   },
   "source": [
    "### 8.\n",
    "С помощью функции `range` сгенерируйте следующую последовательность: <br>\n",
    "`[0, 1, 2, 3, 4]`"
   ]
  },
  {
   "cell_type": "code",
   "execution_count": 7,
   "metadata": {
    "colab": {},
    "colab_type": "code",
    "id": "vpuvqwqdLIPS"
   },
   "outputs": [
    {
     "data": {
      "text/plain": [
       "[0, 1, 2, 3, 4]"
      ]
     },
     "execution_count": 7,
     "metadata": {},
     "output_type": "execute_result"
    }
   ],
   "source": [
    "list(range(5))\n"
   ]
  },
  {
   "cell_type": "markdown",
   "metadata": {
    "colab_type": "text",
    "id": "WyhA3ipeLIPU"
   },
   "source": [
    "### 9.\n",
    "С помощью функции `range` сгенерируйте следующую последовательность: <br>\n",
    "`[3, 4]`"
   ]
  },
  {
   "cell_type": "code",
   "execution_count": 11,
   "metadata": {
    "colab": {},
    "colab_type": "code",
    "id": "WHoyVxCeLIPV"
   },
   "outputs": [
    {
     "data": {
      "text/plain": [
       "[3, 4]"
      ]
     },
     "execution_count": 11,
     "metadata": {},
     "output_type": "execute_result"
    }
   ],
   "source": [
    "list(range(3, 5))"
   ]
  },
  {
   "cell_type": "markdown",
   "metadata": {
    "colab_type": "text",
    "id": "Clfo7jhOLIPY"
   },
   "source": [
    "### 10.\n",
    "С помощью функции `range` сгенерируйте следующую последовательность: <br>\n",
    "`[4, 8, 12, 16]`"
   ]
  },
  {
   "cell_type": "code",
   "execution_count": 14,
   "metadata": {
    "colab": {},
    "colab_type": "code",
    "id": "WepJj6ZfLIPY"
   },
   "outputs": [
    {
     "data": {
      "text/plain": [
       "[4, 8, 12, 16]"
      ]
     },
     "execution_count": 14,
     "metadata": {},
     "output_type": "execute_result"
    }
   ],
   "source": [
    "list(range(4, 17, 4))"
   ]
  },
  {
   "cell_type": "markdown",
   "metadata": {
    "colab_type": "text",
    "id": "U9glCsGCLIPb"
   },
   "source": [
    "### 11.\n",
    "С помощью функции `range` сгенерируйте следующую последовательность: <br>\n",
    "`[16, 12, 8, 4]`"
   ]
  },
  {
   "cell_type": "code",
   "execution_count": 16,
   "metadata": {
    "colab": {},
    "colab_type": "code",
    "id": "NDm-DmpTLIPc"
   },
   "outputs": [
    {
     "data": {
      "text/plain": [
       "[16, 12, 8, 4]"
      ]
     },
     "execution_count": 16,
     "metadata": {},
     "output_type": "execute_result"
    }
   ],
   "source": [
    "list(range(16, 3, -4))"
   ]
  },
  {
   "cell_type": "markdown",
   "metadata": {
    "colab_type": "text",
    "id": "CHz6UIKyLIPi"
   },
   "source": [
    "### 12.\n",
    "С помощью функции `range` сгенерируйте следующую последовательность: <br>\n",
    "`[0, 5, 10]`"
   ]
  },
  {
   "cell_type": "code",
   "execution_count": 18,
   "metadata": {
    "colab": {},
    "colab_type": "code",
    "id": "9C06f5sTLIPj"
   },
   "outputs": [
    {
     "data": {
      "text/plain": [
       "[0, 5, 10]"
      ]
     },
     "execution_count": 18,
     "metadata": {},
     "output_type": "execute_result"
    }
   ],
   "source": [
    "list(range(0, 11, 5))"
   ]
  },
  {
   "cell_type": "markdown",
   "metadata": {
    "colab_type": "text",
    "id": "ZZehpNQuLIPm"
   },
   "source": [
    "### 13.\n",
    "С помощью функции `range` сгенерируйте следующую последовательность: <br>\n",
    "`[10, 5, 0]`"
   ]
  },
  {
   "cell_type": "code",
   "execution_count": 23,
   "metadata": {
    "colab": {},
    "colab_type": "code",
    "id": "H4QmyUfZLIPm"
   },
   "outputs": [
    {
     "data": {
      "text/plain": [
       "[10, 5, 0]"
      ]
     },
     "execution_count": 23,
     "metadata": {},
     "output_type": "execute_result"
    }
   ],
   "source": [
    "list(range(10, -1, -5))\n"
   ]
  },
  {
   "cell_type": "markdown",
   "metadata": {
    "colab_type": "text",
    "id": "kwWQ1al2LIPr"
   },
   "source": [
    "### 14.\n",
    "С помощью функции `range` сгенерируйте следующую последовательность: <br>\n",
    "`[-10, -9, -8, -7, -6, -5, -4, -3, -2, -1]`"
   ]
  },
  {
   "cell_type": "code",
   "execution_count": 24,
   "metadata": {
    "colab": {},
    "colab_type": "code",
    "id": "85HO3S_cLIPu"
   },
   "outputs": [
    {
     "data": {
      "text/plain": [
       "[-10, -9, -8, -7, -6, -5, -4, -3, -2, -1]"
      ]
     },
     "execution_count": 24,
     "metadata": {},
     "output_type": "execute_result"
    }
   ],
   "source": [
    "list(range(-10, 0, 1))"
   ]
  },
  {
   "cell_type": "markdown",
   "metadata": {
    "colab_type": "text",
    "id": "sbCO0FbLLIP3"
   },
   "source": [
    "### 15.\n",
    "С помощью функции `range` сгенерируйте следующую последовательность: <br>\n",
    "`[-10, -16, -22, -28, -34]`"
   ]
  },
  {
   "cell_type": "code",
   "execution_count": 25,
   "metadata": {
    "colab": {},
    "colab_type": "code",
    "id": "Frychu-HLIP4"
   },
   "outputs": [
    {
     "data": {
      "text/plain": [
       "[-10, -16, -22, -28, -34]"
      ]
     },
     "execution_count": 25,
     "metadata": {},
     "output_type": "execute_result"
    }
   ],
   "source": [
    "list(range(-10, -35, -6))"
   ]
  },
  {
   "cell_type": "markdown",
   "metadata": {
    "colab_type": "text",
    "id": "1Gfu4kFqLIP-"
   },
   "source": [
    "## Операторы и типы данных\n",
    "\n",
    "Этот блок должен быть решен **БЕЗ** использования готовых функций и сторонних библиотек. Используйте операторы."
   ]
  },
  {
   "cell_type": "markdown",
   "metadata": {
    "colab_type": "text",
    "id": "qnWdcLseLIP_"
   },
   "source": [
    "### 16.\n",
    "Часы показывают время в формате h:mm:ss (количество часов (от 0 до 23), двузначное количество минут, двузначное количество секунд). Количество минут и секунд при необходимости дополняются до двузначного числа нулями.\n",
    "\n",
    "Программа должна запрашивать количество секунд S, которое прошло с начала суток, и выводить в формате h:mm:ss, какое время будут показывать часы. <br><br>\n",
    "\n",
    "*Формат ввода:* <br>\n",
    "3600<br><br>\n",
    "\n",
    "*Формат вывода:* <br>\n",
    "1:00:00"
   ]
  },
  {
   "cell_type": "code",
   "execution_count": 1,
   "metadata": {
    "colab": {},
    "colab_type": "code",
    "id": "UaM4-TFYLIP_"
   },
   "outputs": [
    {
     "name": "stdout",
     "output_type": "stream",
     "text": [
      "Введите количество секунд: 86399\n",
      "23:59:59\n"
     ]
    }
   ],
   "source": [
    "seconds = int(input('Введите количество секунд: '))\n",
    "days = seconds // 86400\n",
    "seconds = seconds - days * 86400\n",
    "hours = seconds // 3600\n",
    "seconds = seconds - hours * 3600\n",
    "first_minutes = seconds // 600\n",
    "seconds = seconds - first_minutes * 600\n",
    "second_minutes = seconds // 60\n",
    "seconds = seconds - second_minutes * 60\n",
    "first_seconds = seconds // 10\n",
    "seconds = seconds % 10\n",
    "print(hours, ':', first_minutes, second_minutes, ':', first_seconds, seconds, sep = '')"
   ]
  },
  {
   "cell_type": "markdown",
   "metadata": {
    "colab_type": "text",
    "id": "BnxMhHlDLIQB"
   },
   "source": [
    "### 17.\n",
    "Машина выезжает на нулевой километр МКАД и едет по часовой стрелке с постоянной скоростью V километров в час. На каком километре МКАД машина окажется через T часов? \n",
    "<br> Длина МКАД: 109 км. <br><br> \n",
    "\n",
    "*Формат ввода:* <br>\n",
    "60 <br>\n",
    "1\n",
    "<br><br>\n",
    "*Формат вывода:* <br>\n",
    "60"
   ]
  },
  {
   "cell_type": "code",
   "execution_count": 111,
   "metadata": {
    "colab": {},
    "colab_type": "code",
    "id": "66aeGuRbLIQC"
   },
   "outputs": [
    {
     "name": "stdout",
     "output_type": "stream",
     "text": [
      "Введите скорость движения машины: 109\n",
      "Введите время движения машины: 1\n",
      "0\n"
     ]
    }
   ],
   "source": [
    "v = int(input('Введите скорость движения машины: '))\n",
    "t = int(input('Введите время движения машины: '))\n",
    "s = v * t\n",
    "direct_km = s % 109\n",
    "print(direct_km)"
   ]
  },
  {
   "cell_type": "markdown",
   "metadata": {
    "colab_type": "text",
    "id": "ZxMi6_58LIQG"
   },
   "source": [
    "### 18.\n",
    "Напишите программу, которая запрашивает целое пятизначное число и выводит сумму его цифр.\n",
    "\n",
    "*Формат ввода:* <br>\n",
    "11111\n",
    "<br><br>\n",
    "*Формат вывода:* <br>\n",
    "5"
   ]
  },
  {
   "cell_type": "code",
   "execution_count": 3,
   "metadata": {
    "colab": {},
    "colab_type": "code",
    "id": "wasIkbwELIQH"
   },
   "outputs": [
    {
     "name": "stdout",
     "output_type": "stream",
     "text": [
      "Введите пятизначное число: 12345\n",
      "15\n"
     ]
    }
   ],
   "source": [
    "number = int(input('Введите пятизначное число: '))\n",
    "first_number = number // 10000\n",
    "number = number - first_number * 10000\n",
    "second_number = number // 1000\n",
    "number = number - second_number * 1000\n",
    "third_number = number // 100 \n",
    "number = number - third_number * 100\n",
    "fours_number = number // 10\n",
    "number = number % 10\n",
    "print(first_number + second_number + third_number + fours_number + number)"
   ]
  },
  {
   "cell_type": "markdown",
   "metadata": {
    "colab_type": "text",
    "id": "6q6JEgziLIQK"
   },
   "source": [
    "### 19.\n",
    "Напишите программу, которая запрашивает целое четырехзначное число и меняет местами его две первые и две последние цифры.\n",
    "\n",
    "*Формат ввода:* <br>\n",
    "5236 \n",
    "<br><br>\n",
    "*Формат вывода:* <br>\n",
    "3652"
   ]
  },
  {
   "cell_type": "code",
   "execution_count": 12,
   "metadata": {
    "colab": {},
    "colab_type": "code",
    "id": "tupFycemLIQK"
   },
   "outputs": [
    {
     "name": "stdout",
     "output_type": "stream",
     "text": [
      "Введите целое четырехзначное число: 5236\n",
      "3652\n"
     ]
    }
   ],
   "source": [
    "number = int(input('Введите целое четырехзначное число: '))\n",
    "first_number = number // 1000\n",
    "number = number - first_number * 1000 \n",
    "second_number = number // 100\n",
    "number = number - second_number * 100\n",
    "third_number = number // 10\n",
    "fours_number = number % 10\n",
    "print(third_number, fours_number, first_number, second_number, sep = '')"
   ]
  },
  {
   "cell_type": "markdown",
   "metadata": {
    "colab_type": "text",
    "id": "3NglY6CQLIQN"
   },
   "source": [
    "### 20.\n",
    "Напишите программу, которая на основании параметра D (сколько километров в день преодолевает машина), расчитывает сколько дней она затратит на путь длиной P километров.  <br><br>\n",
    "*Формат ввода:* <br>\n",
    "105 <br>\n",
    "120\n",
    "<br><br>\n",
    "*Формат вывода:* <br>\n",
    "2"
   ]
  },
  {
   "cell_type": "code",
   "execution_count": 59,
   "metadata": {
    "colab": {},
    "colab_type": "code",
    "id": "7sCggR--LIQN"
   },
   "outputs": [
    {
     "name": "stdout",
     "output_type": "stream",
     "text": [
      "Введите количество киллометров, преодолеваемое машиной за день: 1\n",
      "Введите длину пути в киллометрах: 105\n",
      "105\n"
     ]
    }
   ],
   "source": [
    "d = int(input('Введите количество киллометров, преодолеваемое машиной за день: '))\n",
    "p = int(input('Введите длину пути в киллометрах: '))\n",
    "full_days = p // d\n",
    "last_day = (d + p % d - 1) // d\n",
    "days = full_days + last_day\n",
    "print(int(days))"
   ]
  },
  {
   "cell_type": "markdown",
   "metadata": {
    "colab_type": "text",
    "id": "oWERt2BRLIQR"
   },
   "source": [
    "### 21.\n",
    "Напишите программу, которая считает, сколько рублей и копеек нужно заплатить за N авокадо, если один авокадо стоит R рублей и K копеек. <br><br>\n",
    "*Формат ввода:* <br>\n",
    "40 20 <br>\n",
    "5\n",
    "<br><br>\n",
    "*Формат вывода:* <br>\n",
    "201 руб. 00 коп."
   ]
  },
  {
   "cell_type": "code",
   "execution_count": 42,
   "metadata": {
    "colab": {},
    "colab_type": "code",
    "id": "Zvx5ybP7LIQU"
   },
   "outputs": [
    {
     "name": "stdout",
     "output_type": "stream",
     "text": [
      "Введите цену за один авокадо: 40 20\n",
      "Введите количество авокадо: 4\n",
      "160 руб. 80 коп.\n"
     ]
    }
   ],
   "source": [
    "rubles, kopek = map(int, input('Введите цену за один авокадо: ').split())\n",
    "number = int(input('Введите количество авокадо: '))\n",
    "rubles = rubles * number + kopek * number // 100\n",
    "kopek = kopek * number % 100\n",
    "print(rubles, 'руб.', kopek, 'коп.')"
   ]
  },
  {
   "cell_type": "markdown",
   "metadata": {
    "colab_type": "text",
    "id": "Q0u91-MILIQX"
   },
   "source": [
    "### 22.\n",
    "Пусть организаторы мероприятия неправильно составили гугл-форму и просили людей указывать ФИО в неправильном порядке. Сначала спрашивали имя, потом отчество, затем фамилию. Напишите программу, которая будет переставлять ФИО в нужный порядок. <br> <br> \n",
    "\n",
    "*Формат ввода:* <br>\n",
    "Иван Иванович Иванов<br><br>\n",
    "*Формат вывода:* <br>\n",
    "Иванов Иван Иванович"
   ]
  },
  {
   "cell_type": "code",
   "execution_count": 37,
   "metadata": {
    "colab": {},
    "colab_type": "code",
    "id": "hrXguBL7LIQX"
   },
   "outputs": [
    {
     "name": "stdout",
     "output_type": "stream",
     "text": [
      "Введите имя, фамилию и отчество: Иван Иванович Иванов\n",
      "Иванов Иван Иванович\n"
     ]
    }
   ],
   "source": [
    "name, patronymic, second_name = map(str, input('Введите имя, фамилию и отчество: ').split())\n",
    "print(second_name, name, patronymic)"
   ]
  },
  {
   "cell_type": "markdown",
   "metadata": {
    "colab_type": "text",
    "id": "vwexBPelLIQb"
   },
   "source": [
    "## Cловари и списки"
   ]
  },
  {
   "cell_type": "markdown",
   "metadata": {
    "colab_type": "text",
    "id": "nIgc10tKLIQc"
   },
   "source": [
    "### 23.\n",
    "У вас есть список с заказом в ресторане. Напишите программу, которая меняет указанное по названию блюдо на другое. При этом новое блюдо в списке будет расположено на месте того, что было заменено.\n",
    "\n",
    "*Формат ввода:* <br>\n",
    "белое вино<br>\n",
    "красное вино <br><br>\n",
    "*Формат вывода:* <br>\n",
    "`['красное вино', 'салат Цезарь', 'паста Карбонара', 'чизкейк', 'шоколадный сорбет']`"
   ]
  },
  {
   "cell_type": "code",
   "execution_count": 15,
   "metadata": {
    "colab": {},
    "colab_type": "code",
    "id": "O0k3dslvLIQd"
   },
   "outputs": [],
   "source": [
    "order = ['белое вино', 'салат Цезарь', 'паста Карбонара', 'чизкейк', 'шоколадный сорбет']"
   ]
  },
  {
   "cell_type": "code",
   "execution_count": 16,
   "metadata": {
    "colab": {},
    "colab_type": "code",
    "id": "D9s6foo_LIQh"
   },
   "outputs": [
    {
     "name": "stdout",
     "output_type": "stream",
     "text": [
      "Введите названиe блюда, которое необходимо заменить: белое вино\n",
      "Введите название нового блюда: красное вино\n",
      "['красное вино', 'салат Цезарь', 'паста Карбонара', 'чизкейк', 'шоколадный сорбет']\n"
     ]
    }
   ],
   "source": [
    "change_dish = input('Введите названиe блюда, которое необходимо заменить: ')\n",
    "new_dish = input('Введите название нового блюда: ')\n",
    "index_change_dish = order.index(change_dish)\n",
    "order.remove(change_dish)\n",
    "order.insert(index_change_dish, new_dish)\n",
    "print(order)"
   ]
  },
  {
   "cell_type": "markdown",
   "metadata": {
    "colab_type": "text",
    "id": "GLx0EKUiLIQj"
   },
   "source": [
    "__________________\n",
    "Вам дан словарь c расписанием на неделю. "
   ]
  },
  {
   "cell_type": "code",
   "execution_count": 105,
   "metadata": {
    "colab": {},
    "colab_type": "code",
    "id": "fbPqWtv_LIQl"
   },
   "outputs": [],
   "source": [
    "diary = {'понедельник': {\n",
    "                          'утро': ['погулять с собакой'],\n",
    "                          'день': [],\n",
    "                          'вечер': ['погулять с собакой']\n",
    "                                      },\n",
    "        'вторник': {\n",
    "                          'утро': ['погулять с собакой'],\n",
    "                          'день': [],\n",
    "                          'вечер': ['погулять с собакой']\n",
    "                                      },\n",
    "        'среда': {\n",
    "                          'утро': ['погулять с собакой'],\n",
    "                          'день': [],\n",
    "                          'вечер': ['погулять с собакой']\n",
    "                                      },\n",
    "        'четверг': {\n",
    "                          'утро': ['погулять с собакой'],\n",
    "                          'день': [],\n",
    "                          'вечер': ['погулять с собакой']\n",
    "                                      },\n",
    "        'пятница': {\n",
    "                          'утро': ['заехать в шиномонтаж', 'помыть машину'],\n",
    "                          'день': [],\n",
    "                          'вечер': ['поход в театр',  'ужин в кафе']\n",
    "                                      },\n",
    "        'суббота': {\n",
    "                          'утро': [],\n",
    "                          'день': [],\n",
    "                          'вечер': []\n",
    "                                      },\n",
    "        'воскресенье': {\n",
    "                          'утро': [],\n",
    "                          'день': [],\n",
    "                          'вечер': []\n",
    "                                      }}"
   ]
  },
  {
   "cell_type": "markdown",
   "metadata": {
    "colab_type": "text",
    "id": "3FocVZkgLIQn"
   },
   "source": [
    "### 24.\n",
    "Удалите ключи `суббота` и `воскресенье`. Вместо них добавьте пару, где ключ это кортеж `суббота, воскресенье`, а значение – список с делом `посадить цветы на даче`. Можно ли сделать ключ `суббота, воскресенье` списком?"
   ]
  },
  {
   "cell_type": "code",
   "execution_count": 106,
   "metadata": {
    "colab": {},
    "colab_type": "code",
    "id": "lcw8GWcnLIQo"
   },
   "outputs": [
    {
     "name": "stdout",
     "output_type": "stream",
     "text": [
      "{'понедельник': {'утро': ['погулять с собакой'], 'день': [], 'вечер': ['погулять с собакой']}, 'вторник': {'утро': ['погулять с собакой'], 'день': [], 'вечер': ['погулять с собакой']}, 'среда': {'утро': ['погулять с собакой'], 'день': [], 'вечер': ['погулять с собакой']}, 'четверг': {'утро': ['погулять с собакой'], 'день': [], 'вечер': ['погулять с собакой']}, 'пятница': {'утро': ['заехать в шиномонтаж', 'помыть машину'], 'день': [], 'вечер': ['поход в театр', 'ужин в кафе']}, ('суббота', 'воскресенье'): 'посадить цветы на даче'}\n"
     ]
    }
   ],
   "source": [
    "del diary['суббота']\n",
    "del diary['воскресенье']\n",
    "diary['суббота', 'воскресенье'] = 'посадить цветы на даче'\n",
    "# print(diary)"
   ]
  },
  {
   "cell_type": "markdown",
   "metadata": {
    "colab_type": "text",
    "id": "vVhNCrtLLIQs"
   },
   "source": [
    "### 25.\n",
    "Добавьте в список дел во вторник утром `поход к зубному`."
   ]
  },
  {
   "cell_type": "code",
   "execution_count": 107,
   "metadata": {
    "colab": {},
    "colab_type": "code",
    "id": "R4BiwaWlLIQu"
   },
   "outputs": [
    {
     "name": "stdout",
     "output_type": "stream",
     "text": [
      "['погулять с собакой', 'поход к зубному']\n"
     ]
    }
   ],
   "source": [
    "diary['вторник']['утро'] += ['поход к зубному']\n",
    "# print(diary['вторник']['утро'])"
   ]
  },
  {
   "cell_type": "markdown",
   "metadata": {
    "colab_type": "text",
    "id": "BPQ5R-PkLIQ2"
   },
   "source": [
    "### 26.\n",
    "Замените `поход в театр` на `поход в кино` в списке дел в пятницу вечером."
   ]
  },
  {
   "cell_type": "code",
   "execution_count": 108,
   "metadata": {
    "colab": {},
    "colab_type": "code",
    "id": "nhqzOrZILIQ5"
   },
   "outputs": [
    {
     "name": "stdout",
     "output_type": "stream",
     "text": [
      "['поход в кино', 'ужин в кафе']\n"
     ]
    }
   ],
   "source": [
    "friday_evening = diary['пятница']['вечер']\n",
    "friday_evening.remove('поход в театр')\n",
    "friday_evening.insert(0, 'поход в кино')\n",
    "# print(diary['пятница']['вечер'])"
   ]
  },
  {
   "cell_type": "markdown",
   "metadata": {
    "colab_type": "text",
    "id": "HCE0aq_BLIQ7"
   },
   "source": [
    "### 27.\n",
    "Ваш друг вернется из отпуска на один день раньше, поэтому он заберет свою собаку в среду, а не в четверг. Удалите дело `погулять с собакой` из соответствующих списков."
   ]
  },
  {
   "cell_type": "code",
   "execution_count": 109,
   "metadata": {
    "colab": {},
    "colab_type": "code",
    "id": "WPnIXdTVLIQ7"
   },
   "outputs": [
    {
     "name": "stdout",
     "output_type": "stream",
     "text": [
      "{'понедельник': {'утро': ['погулять с собакой'], 'день': [], 'вечер': ['погулять с собакой']}, 'вторник': {'утро': ['погулять с собакой', 'поход к зубному'], 'день': [], 'вечер': ['погулять с собакой']}, 'среда': {'утро': ['погулять с собакой'], 'день': [], 'вечер': ['погулять с собакой']}, 'четверг': {'утро': [], 'день': [], 'вечер': []}, 'пятница': {'утро': ['заехать в шиномонтаж', 'помыть машину'], 'день': [], 'вечер': ['поход в кино', 'ужин в кафе']}, ('суббота', 'воскресенье'): 'посадить цветы на даче'}\n"
     ]
    }
   ],
   "source": [
    "del diary['четверг']['утро'][0]\n",
    "del diary['четверг']['вечер'][0]\n",
    "# print(diary)"
   ]
  },
  {
   "cell_type": "markdown",
   "metadata": {
    "colab_type": "text",
    "id": "A80KVUrZLIQ9"
   },
   "source": [
    "### 28.\n",
    "Выведите второе дело из списка дел, которые вам нужно сделать в пятницу утром."
   ]
  },
  {
   "cell_type": "code",
   "execution_count": 110,
   "metadata": {
    "colab": {},
    "colab_type": "code",
    "id": "ofqEBNuZLIQ-"
   },
   "outputs": [
    {
     "name": "stdout",
     "output_type": "stream",
     "text": [
      "помыть машину\n"
     ]
    }
   ],
   "source": [
    "print(diary['пятница']['утро'][1])"
   ]
  },
  {
   "cell_type": "code",
   "execution_count": null,
   "metadata": {},
   "outputs": [],
   "source": []
  }
 ],
 "metadata": {
  "colab": {
   "collapsed_sections": [
    "t6Fgb0AkLIPK",
    "s2K0_TThLIPR",
    "WyhA3ipeLIPU",
    "Clfo7jhOLIPY",
    "U9glCsGCLIPb",
    "CHz6UIKyLIPi",
    "ZZehpNQuLIPm",
    "kwWQ1al2LIPr",
    "qnWdcLseLIP_",
    "BnxMhHlDLIQB",
    "ZxMi6_58LIQG",
    "6q6JEgziLIQK",
    "3NglY6CQLIQN",
    "oWERt2BRLIQR",
    "Q0u91-MILIQX",
    "nIgc10tKLIQc",
    "3FocVZkgLIQn",
    "vVhNCrtLLIQs",
    "BPQ5R-PkLIQ2",
    "HCE0aq_BLIQ7"
   ],
   "name": "jun_anl_data_structures.ipynb",
   "provenance": []
  },
  "kernelspec": {
   "display_name": "Python 3",
   "language": "python",
   "name": "python3"
  },
  "language_info": {
   "codemirror_mode": {
    "name": "ipython",
    "version": 3
   },
   "file_extension": ".py",
   "mimetype": "text/x-python",
   "name": "python",
   "nbconvert_exporter": "python",
   "pygments_lexer": "ipython3",
   "version": "3.7.3"
  }
 },
 "nbformat": 4,
 "nbformat_minor": 1
}
